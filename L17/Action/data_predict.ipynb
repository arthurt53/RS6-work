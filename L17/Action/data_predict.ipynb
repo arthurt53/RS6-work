{
 "cells": [
  {
   "cell_type": "code",
   "execution_count": 1,
   "metadata": {},
   "outputs": [
    {
     "name": "stderr",
     "output_type": "stream",
     "text": [
      "100%|████████████████████████████████████████████████████████████████████████████| 39697/39697 [20:32<00:00, 32.21it/s]\n"
     ]
    }
   ],
   "source": [
    "import pandas as pd\n",
    "import numpy as np\n",
    "import time\n",
    "from tqdm import tqdm\n",
    "\n",
    "train_data = pd.read_csv('train_update.csv')\n",
    "test_data = pd.read_csv('test_update.csv')\n",
    "\n",
    "train_data = train_data.drop('origin',axis = 1)\n",
    "test_data = test_data.drop(['item_1','item_2','item_3','item_4','item_5','item_6',\n",
    "                          'item_7','item_8','item_9','item_10','item_11','item_12',\n",
    "                          'item_13','item_14','item_15','item_16','item_17','item_18',\n",
    "                          'item_19','item_20','item_21','item_22','item_23','item_24','origin'],axis =1)\n",
    "train_data['item_22'] = train_data['item_22'].replace(np.nan, 0)\n",
    "train_data['item_23'] = train_data['item_23'].replace(np.nan, 0)\n",
    "\n",
    "train_data = train_data.sort_values(by=['user_id','date'],ascending=[True, False])\n",
    "train_data = train_data.reset_index(drop = True)\n",
    "\n",
    "train_data_test1 = train_data[['user_id','date','item_1','item_2','item_3',\n",
    "                              'item_4','item_5','item_6','item_7','item_8',\n",
    "                              'item_9','item_10','item_11','item_12','item_13',\n",
    "                              'item_14','item_15','item_16','item_17','item_18',\n",
    "                              'item_19','item_20','item_21','item_22','item_23','item_24']]\n",
    "\n",
    "user_id_list = list(set(train_data_test1['user_id']))\n",
    "user_id_list.sort()\n",
    "\n",
    "col_name = list()\n",
    "for num1 in range(1,25):\n",
    "    col_name.append('item'+str(num1)+'_buy')\n",
    "\n",
    "#对产品列进行处理，用户第一次出现的那行产品信息不变，后续日期行进行差分，差分结果为1表示用户在这个日期新购买了该产品，\n",
    "#-1表示用户在这个日期卖出了该产品，0表示用户未对产品进行操作，将差分结果作为训练的目标标签\n",
    "train_data_all = pd.DataFrame(columns = col_name)\n",
    "for user_id_num in tqdm(user_id_list):\n",
    "    train_data_one = train_data_test1[train_data_test1.user_id == user_id_num]\n",
    "    train_data_one_temp = train_data_one.drop(['user_id','date'],axis=1)\n",
    "    train_data_one_matrix = train_data_one_temp.values\n",
    "    row_num = len(train_data_one_matrix)\n",
    "    if row_num == 1:\n",
    "        train_data_one_matrix = train_data_one_matrix\n",
    "    else:\n",
    "        for i in range(row_num-1): \n",
    "            train_data_one_matrix[i] = train_data_one_matrix[i+1]*(-1)+train_data_one_matrix[i]\n",
    "    train_data_one_new = pd.DataFrame(train_data_one_matrix,columns=col_name)\n",
    "    train_data_all = pd.concat([train_data_all, train_data_one_new],ignore_index = True)"
   ]
  },
  {
   "cell_type": "code",
   "execution_count": 2,
   "metadata": {},
   "outputs": [],
   "source": [
    "train_data1 = pd.concat([train_data,train_data_all] ,axis =1)\n",
    "\n",
    "train_data1 = train_data1.drop(['item_1','item_2','item_3',\n",
    "                              'item_4','item_5','item_6','item_7','item_8',\n",
    "                              'item_9','item_10','item_11','item_12','item_13',\n",
    "                              'item_14','item_15','item_16','item_17','item_18',\n",
    "                              'item_19','item_20','item_21','item_22','item_23','item_24'],axis =1)\n",
    "\n",
    "train_data1.to_csv('train_data1.csv',index = 0)"
   ]
  },
  {
   "cell_type": "code",
   "execution_count": 3,
   "metadata": {},
   "outputs": [
    {
     "name": "stdout",
     "output_type": "stream",
     "text": [
      "<class 'pandas.core.frame.DataFrame'>\n",
      "RangeIndex: 561786 entries, 0 to 561785\n",
      "Data columns (total 19 columns):\n",
      "user_id                   561786 non-null int64\n",
      "user_country              561786 non-null object\n",
      "sex                       561786 non-null object\n",
      "age                       561786 non-null int64\n",
      "new_user_type             561786 non-null float64\n",
      "user_seniority            561786 non-null int64\n",
      "user_type                 561786 non-null float64\n",
      "user_type_at_begin        561786 non-null float64\n",
      "user_relation_at_begin    561786 non-null object\n",
      "live_country_type         561786 non-null object\n",
      "born_country_type         561786 non-null object\n",
      "user_join_channel         561786 non-null object\n",
      "province_code             561786 non-null float64\n",
      "activity_type             561786 non-null float64\n",
      "user_segmentation         561786 non-null object\n",
      "use_time                  561786 non-null int64\n",
      "user_income               561786 non-null int64\n",
      "month_label               561786 non-null int64\n",
      "origin                    561786 non-null object\n",
      "dtypes: float64(5), int64(6), object(8)\n",
      "memory usage: 81.4+ MB\n",
      "None\n"
     ]
    }
   ],
   "source": [
    "#去除日期标签，新增月标记，因为用户的产品购买存在一定的月份特征\n",
    "train_data1['date']=pd.to_datetime(train_data1['date'],format='%Y-%m-%d')\n",
    "train_data1['month_label'] = train_data1['date'].map(lambda x: x.month)\n",
    "\n",
    "for num in col_name:\n",
    "    train_data1[num] = train_data1[num].map(lambda x: 0 if x<0 else x)\n",
    "\n",
    "train_data1['use_time'] = train_data1['use_time'].map(lambda x: 0 if x<0 else x)\n",
    "train_data1 = train_data1.drop('date',axis =1)\n",
    "test_data = test_data.drop('date',axis = 1)\n",
    "test_data['month_label'] = 5\n",
    "\n",
    "train_data_x = train_data1.drop(['item1_buy','item2_buy','item3_buy','item4_buy',\n",
    "                             'item5_buy','item6_buy','item7_buy','item8_buy','item9_buy','item10_buy',\n",
    "                             'item11_buy','item12_buy','item13_buy','item14_buy','item15_buy','item16_buy',\n",
    "                             'item17_buy','item18_buy','item19_buy','item20_buy','item21_buy','item22_buy',\n",
    "                             'item23_buy','item24_buy'],axis = 1)\n",
    "train_data_y = train_data1[['item1_buy','item2_buy','item3_buy','item4_buy',\n",
    "                             'item5_buy','item6_buy','item7_buy','item8_buy','item9_buy','item10_buy',\n",
    "                             'item11_buy','item12_buy','item13_buy','item14_buy','item15_buy','item16_buy',\n",
    "                             'item17_buy','item18_buy','item19_buy','item20_buy','item21_buy','item22_buy',\n",
    "                             'item23_buy','item24_buy']]\n",
    "\n",
    "train_data_x['origin'] = 'train'\n",
    "test_data['origin'] = 'test'\n",
    "matrix = pd.concat([train_data_x,test_data],ignore_index = True,sort = False)\n",
    "print(matrix.info())"
   ]
  },
  {
   "cell_type": "code",
   "execution_count": 4,
   "metadata": {},
   "outputs": [
    {
     "name": "stdout",
     "output_type": "stream",
     "text": [
      "            user_id   user_country            sex            age  \\\n",
      "count  5.326240e+05  532624.000000  532624.000000  532624.000000   \n",
      "mean   8.248920e+05      15.018585       0.546990      40.372525   \n",
      "std    4.330362e+05       0.867818       0.497788      17.174854   \n",
      "min    1.607400e+04       0.000000       0.000000       2.000000   \n",
      "25%    4.397070e+05      15.000000       0.000000      24.000000   \n",
      "50%    9.212120e+05      15.000000       1.000000      39.000000   \n",
      "75%    1.194005e+06      15.000000       1.000000      51.000000   \n",
      "max    1.548191e+06      42.000000       1.000000     114.000000   \n",
      "\n",
      "       new_user_type  user_seniority      user_type  user_type_at_begin  \\\n",
      "count  532624.000000   532624.000000  532624.000000       532624.000000   \n",
      "mean        0.061826       80.568529       0.001744            0.991572   \n",
      "std         0.240839       66.771352       0.041727            0.108040   \n",
      "min         0.000000        0.000000       0.000000            0.000000   \n",
      "25%         0.000000       23.000000       0.000000            1.000000   \n",
      "50%         0.000000       51.000000       0.000000            1.000000   \n",
      "75%         0.000000      137.000000       0.000000            1.000000   \n",
      "max         1.000000      255.000000       1.000000            5.000000   \n",
      "\n",
      "       user_relation_at_begin  live_country_type  born_country_type  \\\n",
      "count           532624.000000      532624.000000      532624.000000   \n",
      "mean                 0.571628           0.995017           0.047818   \n",
      "std                  0.598811           0.070413           0.213381   \n",
      "min                  0.000000           0.000000           0.000000   \n",
      "25%                  0.000000           1.000000           0.000000   \n",
      "50%                  1.000000           1.000000           0.000000   \n",
      "75%                  1.000000           1.000000           0.000000   \n",
      "max                  4.000000           1.000000           1.000000   \n",
      "\n",
      "       user_join_channel  province_code  activity_type  user_segmentation  \\\n",
      "count      532624.000000  532624.000000  532624.000000      532624.000000   \n",
      "mean           86.451292      25.646315       0.458603           1.339823   \n",
      "std            45.790831      12.849419       0.498284           0.576826   \n",
      "min             0.000000       0.000000       0.000000           0.000000   \n",
      "25%            22.000000      14.000000       0.000000           1.000000   \n",
      "50%           103.000000      27.000000       0.000000           1.000000   \n",
      "75%           125.000000      34.000000       1.000000           2.000000   \n",
      "max           135.000000      52.000000       1.000000           3.000000   \n",
      "\n",
      "            use_time   user_income    month_label    user_id_lbe  \n",
      "count  532624.000000  5.326240e+05  532624.000000  532624.000000  \n",
      "mean     2475.495973  1.327547e+05       4.722275   18353.212133  \n",
      "std      2046.394575  2.856334e+05       3.602370   10688.213301  \n",
      "min         0.000000  6.773000e+03       0.000000       0.000000  \n",
      "25%       697.000000  7.363700e+04       2.000000    9086.000000  \n",
      "50%      1606.000000  1.029250e+05       4.000000   18449.000000  \n",
      "75%      4243.000000  1.534650e+05       8.000000   27354.000000  \n",
      "max      7736.000000  2.889440e+07      11.000000   39696.000000  \n"
     ]
    }
   ],
   "source": [
    "#对特征列进行Labelencoder\n",
    "from sklearn.preprocessing import LabelEncoder\n",
    "\n",
    "lbe_user_id = LabelEncoder()\n",
    "matrix['user_id_lbe'] = lbe_user_id.fit_transform(matrix['user_id'])\n",
    "\n",
    "cate_col = ['user_country','sex','new_user_type','user_type','user_type_at_begin','user_relation_at_begin',\n",
    "           'live_country_type','born_country_type','user_join_channel','province_code','activity_type','user_segmentation',\n",
    "           'month_label']\n",
    "\n",
    "for name in cate_col:\n",
    "    lbe_temp = LabelEncoder()\n",
    "    matrix[name] = lbe_temp.fit_transform(matrix[name])\n",
    "\n",
    "label_name =['user_country','sex','age','new_user_type','user_seniority',\n",
    "            'user_type','user_type_at_begin','user_relation_at_begin','live_country_type',\n",
    "            'born_country_type','user_join_channel','province_code','activity_type',\n",
    "            'user_segmentation','use_time','month_label']\n",
    "\n",
    "#对特征列进行类型变换以减少内存消耗\n",
    "for name in label_name:\n",
    "    matrix[name] = matrix[name].astype('int16')\n",
    "    \n",
    "matrix['user_income'] = matrix['user_income'].astype('int32')\n",
    "matrix['user_id_lbe'] = matrix['user_id_lbe'].astype('int32')\n",
    "\n",
    "train_data_x = matrix[matrix.origin == 'train']\n",
    "test_data = matrix[matrix.origin == 'test']\n",
    "\n",
    "print(train_data_x.describe())\n",
    "\n",
    "train_data_x.to_csv('train_data_x.csv',index = 0)\n",
    "train_data_y.to_csv('train_data_y.csv',index = 0)\n",
    "test_data.to_csv('test_data.csv',index = 0)\n"
   ]
  },
  {
   "cell_type": "code",
   "execution_count": 5,
   "metadata": {},
   "outputs": [
    {
     "name": "stdout",
     "output_type": "stream",
     "text": [
      "[21:33:28] WARNING: C:\\Users\\Administrator\\workspace\\xgboost-win64_release_1.0.0\\src\\learner.cc:328: \n",
      "Parameters: { lamdba } might not be used.\n",
      "\n",
      "  This may not be accurate due to some parameters are only used in language bindings but\n",
      "  passed down to XGBoost core.  Or some parameters are not used but slip through this\n",
      "  verification. Please open an issue if you find above cases.\n",
      "\n",
      "\n",
      "[0]\ttrain-mlogloss:3.13887\ttest-mlogloss:3.14266\n",
      "Multiple eval metrics have been passed: 'test-mlogloss' will be used for early stopping.\n",
      "\n",
      "Will train until test-mlogloss hasn't improved in 100 rounds.\n",
      "[25]\ttrain-mlogloss:2.57360\ttest-mlogloss:2.66398\n",
      "[50]\ttrain-mlogloss:2.26507\ttest-mlogloss:2.42824\n",
      "[75]\ttrain-mlogloss:2.05089\ttest-mlogloss:2.27493\n",
      "[100]\ttrain-mlogloss:1.88911\ttest-mlogloss:2.16657\n",
      "[125]\ttrain-mlogloss:1.76156\ttest-mlogloss:2.08736\n",
      "[150]\ttrain-mlogloss:1.65903\ttest-mlogloss:2.02764\n",
      "[175]\ttrain-mlogloss:1.57499\ttest-mlogloss:1.98214\n",
      "[200]\ttrain-mlogloss:1.50545\ttest-mlogloss:1.94736\n",
      "[225]\ttrain-mlogloss:1.44601\ttest-mlogloss:1.92112\n",
      "[250]\ttrain-mlogloss:1.39640\ttest-mlogloss:1.90040\n",
      "[275]\ttrain-mlogloss:1.35352\ttest-mlogloss:1.88420\n",
      "[300]\ttrain-mlogloss:1.31602\ttest-mlogloss:1.87203\n",
      "[325]\ttrain-mlogloss:1.28296\ttest-mlogloss:1.86289\n",
      "[350]\ttrain-mlogloss:1.25450\ttest-mlogloss:1.85667\n",
      "[375]\ttrain-mlogloss:1.22952\ttest-mlogloss:1.85244\n",
      "[400]\ttrain-mlogloss:1.20730\ttest-mlogloss:1.84974\n",
      "[425]\ttrain-mlogloss:1.18628\ttest-mlogloss:1.84829\n",
      "[450]\ttrain-mlogloss:1.16750\ttest-mlogloss:1.84766\n",
      "[475]\ttrain-mlogloss:1.15023\ttest-mlogloss:1.84838\n",
      "[500]\ttrain-mlogloss:1.13484\ttest-mlogloss:1.85004\n",
      "[525]\ttrain-mlogloss:1.12032\ttest-mlogloss:1.85226\n",
      "[550]\ttrain-mlogloss:1.10769\ttest-mlogloss:1.85481\n",
      "Stopping. Best iteration:\n",
      "[452]\ttrain-mlogloss:1.16613\ttest-mlogloss:1.84764\n",
      "\n",
      "[[0.0027854  0.00282264 0.10006925 ... 0.12266068 0.17091896 0.2940982 ]\n",
      " [0.00250565 0.00253915 0.07741205 ... 0.07847545 0.1067892  0.42324072]\n",
      " [0.00339776 0.00344319 0.07032968 ... 0.1179035  0.16680586 0.21170013]\n",
      " ...\n",
      " [0.00136085 0.00137905 0.18289617 ... 0.03768235 0.06902573 0.65883404]\n",
      " [0.00182733 0.00185176 0.4873427  ... 0.00719202 0.00577871 0.44326702]\n",
      " [0.00181171 0.00183594 0.4096138  ... 0.00484134 0.00495462 0.5296864 ]]\n"
     ]
    }
   ],
   "source": [
    "train_data_x = pd.read_csv('train_data_x.csv')\n",
    "train_data_y = pd.read_csv('train_data_y.csv')\n",
    "test_data = pd.read_csv('test_data.csv')\n",
    "\n",
    "train_data_x = train_data_x.drop(['origin','user_id'],axis = 1)\n",
    "all_data = pd.concat([train_data_x,train_data_y],axis = 1)\n",
    "\n",
    "test_data = test_data.drop('origin',axis = 1)\n",
    "test_data1 = test_data.drop('user_id',axis = 1)\n",
    "\n",
    "#all_data.to_csv('all_data.csv',index=0)\n",
    "#将24个目标标签列整合成1列，如果用户购买了某一产品，则在标签列显示相应产品序号\n",
    "all_data1 = all_data.set_index(['user_country', 'sex', 'age', 'new_user_type', 'user_seniority', 'user_type', \n",
    "                                'user_type_at_begin', 'user_relation_at_begin', 'live_country_type', \n",
    "                                'born_country_type', 'user_join_channel', 'province_code', 'activity_type', \n",
    "                                'user_segmentation', 'use_time', 'user_income', 'month_label', 'user_id_lbe' ])\n",
    "all_data1 = all_data1.stack().reset_index()\n",
    "#print(all_data1)\n",
    "\n",
    "all_data1['level_18'] = all_data1['level_18'].map({'item1_buy': 0, 'item2_buy': 1,'item3_buy': 2,\n",
    "                                                  'item4_buy': 3, 'item5_buy': 4,'item6_buy': 5,\n",
    "                                                  'item7_buy': 6, 'item8_buy': 7,'item9_buy': 8,\n",
    "                                                  'item10_buy': 9, 'item11_buy': 10,'item12_buy': 11,\n",
    "                                                  'item13_buy': 12, 'item14_buy': 13,'item15_buy': 14,\n",
    "                                                  'item16_buy': 15, 'item17_buy': 16,'item18_buy': 17,\n",
    "                                                  'item19_buy': 18, 'item20_buy': 19,'item21_buy': 20,\n",
    "                                                  'item22_buy': 21, 'item23_buy': 22,'item24_buy': 23})\n",
    "\n",
    "#print(all_data1)\n",
    "\n",
    "all_data1['buy'] = all_data1['level_18'].mul(all_data1[0])\n",
    "#print(all_data1[all_data1.buy != 0])\n",
    "\n",
    "all_data2 = all_data1[all_data1.buy != 0]\n",
    "\n",
    "all_data2 = all_data2.drop(['level_18',0],axis =1)\n",
    "#print(all_data2)\n",
    "\n",
    "all_data2['buy'] = all_data2['buy'].astype('int32')\n",
    "\n",
    "#print(all_data2['buy'].value_counts())\n",
    "\n",
    "test_data2 = test_data1.values\n",
    "#print(test_data2)\n",
    "\n",
    "all_data3 = all_data2.drop(['buy'],axis=1).values\n",
    "\n",
    "all_data4 = all_data2['buy'].values\n",
    "#print(all_data4)\n",
    "\n",
    "#进行Xgboost的预测\n",
    "from sklearn.model_selection import train_test_split\n",
    "import xgboost as xgb\n",
    "\n",
    "X = all_data3\n",
    "Y = all_data4\n",
    "\n",
    "X_train, X_test, y_train, y_test = train_test_split(X, Y, test_size=0.2, random_state=0)\n",
    "#加载numpy的数组到DMatrix对象\n",
    "xg_train = xgb.DMatrix(X_train, label=y_train)\n",
    "xg_test = xgb.DMatrix( X_test, label=y_test)\n",
    "#1.训练模型\n",
    "# setup parameters for xgboost\n",
    "param = {}\n",
    "# use softmax multi-class classification\n",
    "param['objective'] = 'multi:softprob'\n",
    "param['eval_metric'] = 'mlogloss'\n",
    "# scale weight of positive examples\n",
    "param['eta'] = 0.01\n",
    "param['max_depth'] = 15\n",
    "#param['silent'] = 0\n",
    "#param['nthread'] = 4\n",
    "param['num_class'] = 24\n",
    "param['lamdba'] = 2\n",
    "#param['colsample_bytree'] = 0.8\n",
    "#param['subsample'] = 0.9\n",
    " \n",
    "watchlist = [ (xg_train,'train'), (xg_test, 'test') ]\n",
    "num_round = 10000\n",
    "bst = xgb.train(param, xg_train, num_round, watchlist, early_stopping_rounds=100, verbose_eval=25 );\n",
    "\n",
    "test_data_input = xgb.DMatrix(test_data2)\n",
    "pred = bst.predict( test_data_input );\n",
    "print (pred)\n"
   ]
  },
  {
   "cell_type": "code",
   "execution_count": 8,
   "metadata": {},
   "outputs": [
    {
     "name": "stdout",
     "output_type": "stream",
     "text": [
      "{'f7': 26455, 'f10': 203786, 'f16': 190363, 'f13': 58785, 'f4': 398670, 'f17': 525565, 'f15': 886307, 'f9': 23733, 'f2': 603098, 'f11': 365655, 'f14': 612399, 'f1': 92026, 'f12': 22029, 'f6': 1758, 'f3': 4550, 'f5': 427, 'f0': 3157, 'f8': 1607}\n"
     ]
    }
   ],
   "source": [
    "feature_importance = bst.get_score(importance_type=\"weight\")\n",
    "print(feature_importance)"
   ]
  },
  {
   "cell_type": "code",
   "execution_count": 28,
   "metadata": {},
   "outputs": [
    {
     "name": "stdout",
     "output_type": "stream",
     "text": [
      "['user_country', 'sex', 'age', 'new_user_type', 'user_seniority', 'user_type', 'user_type_at_begin', 'user_relation_at_begin', 'live_country_type', 'born_country_type', 'user_join_channel', 'province_code', 'activity_type', 'user_segmentation', 'use_time', 'user_income', 'month_label', 'user_id_lbe']\n"
     ]
    }
   ],
   "source": [
    "feature_importance_list = all_data1.columns.values.tolist()[:-3]\n",
    "print(feature_importance_list)"
   ]
  },
  {
   "cell_type": "code",
   "execution_count": 20,
   "metadata": {},
   "outputs": [],
   "source": [
    "feature_importance_temp = pd.DataFrame([feature_importance])\n",
    "feature_importance_df = feature_importance_temp.T"
   ]
  },
  {
   "cell_type": "code",
   "execution_count": 21,
   "metadata": {},
   "outputs": [
    {
     "name": "stdout",
     "output_type": "stream",
     "text": [
      "          0\n",
      "f0     3157\n",
      "f1    92026\n",
      "f10  203786\n",
      "f11  365655\n",
      "f12   22029\n",
      "f13   58785\n",
      "f14  612399\n",
      "f15  886307\n",
      "f16  190363\n",
      "f17  525565\n",
      "f2   603098\n",
      "f3     4550\n",
      "f4   398670\n",
      "f5      427\n",
      "f6     1758\n",
      "f7    26455\n",
      "f8     1607\n",
      "f9    23733\n"
     ]
    }
   ],
   "source": [
    "print(feature_importance_df)"
   ]
  },
  {
   "cell_type": "code",
   "execution_count": 22,
   "metadata": {},
   "outputs": [
    {
     "name": "stdout",
     "output_type": "stream",
     "text": [
      "   index       0\n",
      "0     f0    3157\n",
      "1     f1   92026\n",
      "2    f10  203786\n",
      "3    f11  365655\n",
      "4    f12   22029\n",
      "5    f13   58785\n",
      "6    f14  612399\n",
      "7    f15  886307\n",
      "8    f16  190363\n",
      "9    f17  525565\n",
      "10    f2  603098\n",
      "11    f3    4550\n",
      "12    f4  398670\n",
      "13    f5     427\n",
      "14    f6    1758\n",
      "15    f7   26455\n",
      "16    f8    1607\n",
      "17    f9   23733\n"
     ]
    }
   ],
   "source": [
    "feature_importance_df = feature_importance_df.reset_index()\n",
    "print(feature_importance_df)"
   ]
  },
  {
   "cell_type": "code",
   "execution_count": 23,
   "metadata": {},
   "outputs": [
    {
     "name": "stdout",
     "output_type": "stream",
     "text": [
      "   feature  feature_importance\n",
      "0       f0                3157\n",
      "1       f1               92026\n",
      "2      f10              203786\n",
      "3      f11              365655\n",
      "4      f12               22029\n",
      "5      f13               58785\n",
      "6      f14              612399\n",
      "7      f15              886307\n",
      "8      f16              190363\n",
      "9      f17              525565\n",
      "10      f2              603098\n",
      "11      f3                4550\n",
      "12      f4              398670\n",
      "13      f5                 427\n",
      "14      f6                1758\n",
      "15      f7               26455\n",
      "16      f8                1607\n",
      "17      f9               23733\n"
     ]
    }
   ],
   "source": [
    "feature_importance_df = feature_importance_df.rename(columns={'index': 'feature',0:'feature_importance'})\n",
    "print(feature_importance_df)"
   ]
  },
  {
   "cell_type": "code",
   "execution_count": 24,
   "metadata": {},
   "outputs": [
    {
     "name": "stdout",
     "output_type": "stream",
     "text": [
      "   feature  feature_importance\n",
      "0        0                3157\n",
      "1        1               92026\n",
      "2       10              203786\n",
      "3       11              365655\n",
      "4       12               22029\n",
      "5       13               58785\n",
      "6       14              612399\n",
      "7       15              886307\n",
      "8       16              190363\n",
      "9       17              525565\n",
      "10       2              603098\n",
      "11       3                4550\n",
      "12       4              398670\n",
      "13       5                 427\n",
      "14       6                1758\n",
      "15       7               26455\n",
      "16       8                1607\n",
      "17       9               23733\n"
     ]
    }
   ],
   "source": [
    "feature_importance_df['feature']=feature_importance_df['feature'].map(lambda x: x[1:])\n",
    "print(feature_importance_df)"
   ]
  },
  {
   "cell_type": "code",
   "execution_count": 29,
   "metadata": {},
   "outputs": [
    {
     "ename": "NameError",
     "evalue": "name 'feature_importance2_list' is not defined",
     "output_type": "error",
     "traceback": [
      "\u001b[1;31m---------------------------------------------------------------------------\u001b[0m",
      "\u001b[1;31mNameError\u001b[0m                                 Traceback (most recent call last)",
      "\u001b[1;32m<ipython-input-29-0bbabe273308>\u001b[0m in \u001b[0;36m<module>\u001b[1;34m()\u001b[0m\n\u001b[0;32m      3\u001b[0m     \u001b[0mfeature_importance_list2\u001b[0m\u001b[1;33m.\u001b[0m\u001b[0mappend\u001b[0m\u001b[1;33m(\u001b[0m\u001b[0mfeature_importance_list\u001b[0m\u001b[1;33m[\u001b[0m\u001b[0mint\u001b[0m\u001b[1;33m(\u001b[0m\u001b[0mfeature_num\u001b[0m\u001b[1;33m)\u001b[0m\u001b[1;33m]\u001b[0m\u001b[1;33m)\u001b[0m\u001b[1;33m\u001b[0m\u001b[0m\n\u001b[0;32m      4\u001b[0m \u001b[1;33m\u001b[0m\u001b[0m\n\u001b[1;32m----> 5\u001b[1;33m \u001b[0mfeature_importance_df\u001b[0m\u001b[1;33m[\u001b[0m\u001b[1;34m'feature1'\u001b[0m\u001b[1;33m]\u001b[0m \u001b[1;33m=\u001b[0m \u001b[0mfeature_importance2_list\u001b[0m\u001b[1;33m\u001b[0m\u001b[0m\n\u001b[0m\u001b[0;32m      6\u001b[0m \u001b[0mprint\u001b[0m\u001b[1;33m(\u001b[0m\u001b[0mfeature_importance_df\u001b[0m\u001b[1;33m)\u001b[0m\u001b[1;33m\u001b[0m\u001b[0m\n",
      "\u001b[1;31mNameError\u001b[0m: name 'feature_importance2_list' is not defined"
     ]
    }
   ],
   "source": [
    "feature_importance_list2 = list()\n",
    "for feature_num in feature_importance_df['feature']:\n",
    "    feature_importance_list2.append(feature_importance_list[int(feature_num)])\n",
    "    \n"
   ]
  },
  {
   "cell_type": "code",
   "execution_count": 30,
   "metadata": {},
   "outputs": [
    {
     "name": "stdout",
     "output_type": "stream",
     "text": [
      "   feature  feature_importance                feature1\n",
      "0        0                3157            user_country\n",
      "1        1               92026                     sex\n",
      "2       10              203786       user_join_channel\n",
      "3       11              365655           province_code\n",
      "4       12               22029           activity_type\n",
      "5       13               58785       user_segmentation\n",
      "6       14              612399                use_time\n",
      "7       15              886307             user_income\n",
      "8       16              190363             month_label\n",
      "9       17              525565             user_id_lbe\n",
      "10       2              603098                     age\n",
      "11       3                4550           new_user_type\n",
      "12       4              398670          user_seniority\n",
      "13       5                 427               user_type\n",
      "14       6                1758      user_type_at_begin\n",
      "15       7               26455  user_relation_at_begin\n",
      "16       8                1607       live_country_type\n",
      "17       9               23733       born_country_type\n"
     ]
    }
   ],
   "source": [
    "feature_importance_df['feature1'] = feature_importance_list2\n",
    "print(feature_importance_df)"
   ]
  },
  {
   "cell_type": "code",
   "execution_count": 32,
   "metadata": {},
   "outputs": [],
   "source": [
    "feature_importance_temp = list()\n",
    "for i in feature_importance_df['feature_importance']:\n",
    "    temp = i/max(feature_importance_df['feature_importance'])*100\n",
    "    feature_importance_temp.append(temp)\n",
    "\n",
    "feature_importance_df['feature_importance1'] = feature_importance_temp"
   ]
  },
  {
   "cell_type": "code",
   "execution_count": 33,
   "metadata": {},
   "outputs": [
    {
     "name": "stdout",
     "output_type": "stream",
     "text": [
      "   feature  feature_importance                feature1  feature_importance1\n",
      "0        0                3157            user_country             0.356197\n",
      "1        1               92026                     sex            10.383084\n",
      "2       10              203786       user_join_channel            22.992710\n",
      "3       11              365655           province_code            41.256021\n",
      "4       12               22029           activity_type             2.485482\n",
      "5       13               58785       user_segmentation             6.632578\n",
      "6       14              612399                use_time            69.095584\n",
      "7       15              886307             user_income           100.000000\n",
      "8       16              190363             month_label            21.478224\n",
      "9       17              525565             user_id_lbe            59.298302\n",
      "10       2              603098                     age            68.046174\n",
      "11       3                4550           new_user_type             0.513366\n",
      "12       4              398670          user_seniority            44.981028\n",
      "13       5                 427               user_type             0.048177\n",
      "14       6                1758      user_type_at_begin             0.198351\n",
      "15       7               26455  user_relation_at_begin             2.984857\n",
      "16       8                1607       live_country_type             0.181314\n",
      "17       9               23733       born_country_type             2.677740\n"
     ]
    }
   ],
   "source": [
    "print(feature_importance_df)"
   ]
  },
  {
   "cell_type": "code",
   "execution_count": 34,
   "metadata": {},
   "outputs": [
    {
     "name": "stdout",
     "output_type": "stream",
     "text": [
      "                  feature1  feature_importance1\n",
      "0             user_country             0.356197\n",
      "1                      sex            10.383084\n",
      "2        user_join_channel            22.992710\n",
      "3            province_code            41.256021\n",
      "4            activity_type             2.485482\n",
      "5        user_segmentation             6.632578\n",
      "6                 use_time            69.095584\n",
      "7              user_income           100.000000\n",
      "8              month_label            21.478224\n",
      "9              user_id_lbe            59.298302\n",
      "10                     age            68.046174\n",
      "11           new_user_type             0.513366\n",
      "12          user_seniority            44.981028\n",
      "13               user_type             0.048177\n",
      "14      user_type_at_begin             0.198351\n",
      "15  user_relation_at_begin             2.984857\n",
      "16       live_country_type             0.181314\n",
      "17       born_country_type             2.677740\n"
     ]
    }
   ],
   "source": [
    "feature_importance_df = feature_importance_df.drop(['feature','feature_importance'],axis=1)\n",
    "print(feature_importance_df)"
   ]
  },
  {
   "cell_type": "code",
   "execution_count": 39,
   "metadata": {},
   "outputs": [
    {
     "name": "stdout",
     "output_type": "stream",
     "text": [
      "                  feature1  feature_importance1\n",
      "13               user_type             0.048177\n",
      "16       live_country_type             0.181314\n",
      "14      user_type_at_begin             0.198351\n",
      "0             user_country             0.356197\n",
      "11           new_user_type             0.513366\n",
      "4            activity_type             2.485482\n",
      "17       born_country_type             2.677740\n",
      "15  user_relation_at_begin             2.984857\n",
      "5        user_segmentation             6.632578\n",
      "1                      sex            10.383084\n",
      "8              month_label            21.478224\n",
      "2        user_join_channel            22.992710\n",
      "3            province_code            41.256021\n",
      "12          user_seniority            44.981028\n",
      "9              user_id_lbe            59.298302\n",
      "10                     age            68.046174\n",
      "6                 use_time            69.095584\n",
      "7              user_income           100.000000\n"
     ]
    }
   ],
   "source": [
    "feature_importance_df1 = feature_importance_df.sort_values(by=\"feature_importance1\" , ascending=True)\n",
    "\n",
    "print(feature_importance_df1)"
   ]
  },
  {
   "cell_type": "code",
   "execution_count": 47,
   "metadata": {},
   "outputs": [
    {
     "name": "stdout",
     "output_type": "stream",
     "text": [
      "                        feature_importance1\n",
      "feature1                                   \n",
      "user_type                          0.048177\n",
      "live_country_type                  0.181314\n",
      "user_type_at_begin                 0.198351\n",
      "user_country                       0.356197\n",
      "new_user_type                      0.513366\n",
      "activity_type                      2.485482\n",
      "born_country_type                  2.677740\n",
      "user_relation_at_begin             2.984857\n",
      "user_segmentation                  6.632578\n",
      "sex                               10.383084\n",
      "month_label                       21.478224\n",
      "user_join_channel                 22.992710\n",
      "province_code                     41.256021\n",
      "user_seniority                    44.981028\n",
      "user_id_lbe                       59.298302\n",
      "age                               68.046174\n",
      "use_time                          69.095584\n",
      "user_income                      100.000000\n"
     ]
    }
   ],
   "source": [
    "feature_importance_df1 = feature_importance_df1.set_index('feature1')\n",
    "print(feature_importance_df1)"
   ]
  },
  {
   "cell_type": "code",
   "execution_count": 48,
   "metadata": {},
   "outputs": [
    {
     "data": {
      "text/plain": [
       "<matplotlib.axes._subplots.AxesSubplot at 0x2be5eeaf5f8>"
      ]
     },
     "execution_count": 48,
     "metadata": {},
     "output_type": "execute_result"
    },
    {
     "data": {
      "image/png": "[encoded data removed]",
      "text/plain": [
       "<Figure size 432x288 with 1 Axes>"
      ]
     },
     "metadata": {
      "needs_background": "light"
     },
     "output_type": "display_data"
    }
   ],
   "source": [
    "feature_importance_df1.plot(kind = 'barh')\n"
   ]
  },
  {
   "cell_type": "code",
   "execution_count": null,
   "metadata": {},
   "outputs": [],
   "source": []
  }
 ],
 "metadata": {
  "kernelspec": {
   "display_name": "Python 3",
   "language": "python",
   "name": "python3"
  },
  "language_info": {
   "codemirror_mode": {
    "name": "ipython",
    "version": 3
   },
   "file_extension": ".py",
   "mimetype": "text/x-python",
   "name": "python",
   "nbconvert_exporter": "python",
   "pygments_lexer": "ipython3",
   "version": "3.7.0"
  }
 },
 "nbformat": 4,
 "nbformat_minor": 2
}
