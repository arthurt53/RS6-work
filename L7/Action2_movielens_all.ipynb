{
 "cells": [
  {
   "cell_type": "code",
   "execution_count": 9,
   "metadata": {},
   "outputs": [
    {
     "name": "stdout",
     "output_type": "stream",
     "text": [
      "Done\n"
     ]
    }
   ],
   "source": [
    "import pandas as pd\n",
    "#数据源:https://grouplens.org/datasets/movielens/；25M Movielens数据集中的ratings.csv,movies.csv,tags.csv\n",
    "file_1 = pd.read_csv('./learning/L7/movielens/ml-latest/movies.csv')\n",
    "file_2 = pd.read_csv('./learning/L7/movielens/ml-latest/ratings.csv')\n",
    "file_3 = pd.read_csv('./learning/L7/movielens/ml-latest/tags.csv')\n",
    "#合并3个文件生成DeepFM的数据集\n",
    "file_3 = file_3.drop('timestamp' , axis =1) \n",
    "file_4 = pd.merge(file_2 , file_3)\n",
    "file_5 = pd.merge(file_4 , file_1)\n",
    "file_5.to_csv('./learning/L7/movielens/ml-latest/action2_movielens_2.csv' , index = 0)\n",
    "print('Done')"
   ]
  },
  {
   "cell_type": "code",
   "execution_count": 8,
   "metadata": {},
   "outputs": [
    {
     "name": "stdout",
     "output_type": "stream",
     "text": [
      "<class 'pandas.core.frame.DataFrame'>\n",
      "Int64Index: 830492 entries, 0 to 830491\n",
      "Data columns (total 7 columns):\n",
      "userId       830492 non-null int64\n",
      "movieId      830492 non-null int64\n",
      "rating       830492 non-null float64\n",
      "timestamp    830492 non-null int64\n",
      "tag          830491 non-null object\n",
      "title        830492 non-null object\n",
      "genres       830492 non-null object\n",
      "dtypes: float64(1), int64(3), object(3)\n",
      "memory usage: 50.7+ MB\n",
      "None\n"
     ]
    }
   ],
   "source": [
    "print(file_5.info())"
   ]
  },
  {
   "cell_type": "code",
   "execution_count": 25,
   "metadata": {},
   "outputs": [
    {
     "name": "stdout",
     "output_type": "stream",
     "text": [
      "[SparseFeat(name='userId', vocabulary_size=16358, embedding_dim=4, use_hash=False, dtype='int32', embedding_name='userId', group_name='default_group'), SparseFeat(name='movieId', vocabulary_size=21942, embedding_dim=4, use_hash=False, dtype='int32', embedding_name='movieId', group_name='default_group'), SparseFeat(name='timestamp', vocabulary_size=218612, embedding_dim=4, use_hash=False, dtype='int32', embedding_name='timestamp', group_name='default_group'), SparseFeat(name='tag', vocabulary_size=57924, embedding_dim=4, use_hash=False, dtype='int32', embedding_name='tag', group_name='default_group'), SparseFeat(name='title', vocabulary_size=21925, embedding_dim=4, use_hash=False, dtype='int32', embedding_name='title', group_name='default_group'), SparseFeat(name='genres', vocabulary_size=1264, embedding_dim=4, use_hash=False, dtype='int32', embedding_name='genres', group_name='default_group')]\n",
      "Train on 531514 samples, validate on 132879 samples\n",
      "Epoch 1/10\n"
     ]
    },
    {
     "name": "stderr",
     "output_type": "stream",
     "text": [
      "C:\\Users\\TAOXUEJIE-PSD\\Anaconda3\\lib\\site-packages\\tensorflow_core\\python\\framework\\indexed_slices.py:424: UserWarning: Converting sparse IndexedSlices to a dense Tensor of unknown shape. This may consume a large amount of memory.\n",
      "  \"Converting sparse IndexedSlices to a dense Tensor of unknown shape. \"\n",
      "C:\\Users\\TAOXUEJIE-PSD\\Anaconda3\\lib\\site-packages\\tensorflow_core\\python\\framework\\indexed_slices.py:424: UserWarning: Converting sparse IndexedSlices to a dense Tensor of unknown shape. This may consume a large amount of memory.\n",
      "  \"Converting sparse IndexedSlices to a dense Tensor of unknown shape. \"\n"
     ]
    },
    {
     "name": "stdout",
     "output_type": "stream",
     "text": [
      "531514/531514 [==============================] - 52s 98us/sample - loss: 0.6000 - mse: 0.5960 - val_loss: 0.1912 - val_mse: 0.1834\n",
      "Epoch 2/10\n",
      "531514/531514 [==============================] - 51s 96us/sample - loss: 0.0910 - mse: 0.0820 - val_loss: 0.1583 - val_mse: 0.1475\n",
      "Epoch 3/10\n",
      "531514/531514 [==============================] - 51s 96us/sample - loss: 0.0659 - mse: 0.0535 - val_loss: 0.1516 - val_mse: 0.1373\n",
      "Epoch 4/10\n",
      "531514/531514 [==============================] - 50s 94us/sample - loss: 0.0580 - mse: 0.0430 - val_loss: 0.1481 - val_mse: 0.1323\n",
      "Epoch 5/10\n",
      "531514/531514 [==============================] - 51s 96us/sample - loss: 0.0538 - mse: 0.0381 - val_loss: 0.1429 - val_mse: 0.1271\n",
      "Epoch 6/10\n",
      "531514/531514 [==============================] - 51s 96us/sample - loss: 0.0475 - mse: 0.0327 - val_loss: 0.1410 - val_mse: 0.1267\n",
      "Epoch 7/10\n",
      "531514/531514 [==============================] - 51s 96us/sample - loss: 0.0438 - mse: 0.0302 - val_loss: 0.1379 - val_mse: 0.1244\n",
      "Epoch 8/10\n",
      "531514/531514 [==============================] - 52s 99us/sample - loss: 0.0416 - mse: 0.0286 - val_loss: 0.1389 - val_mse: 0.1259\n",
      "Epoch 9/10\n",
      "531514/531514 [==============================] - 52s 98us/sample - loss: 0.0406 - mse: 0.0279 - val_loss: 0.1398 - val_mse: 0.1268\n",
      "Epoch 10/10\n",
      "531514/531514 [==============================] - 49s 92us/sample - loss: 0.0419 - mse: 0.0291 - val_loss: 0.1409 - val_mse: 0.1278\n",
      "test RMSE 0.36041642581880196\n"
     ]
    }
   ],
   "source": [
    "import pandas as pd\n",
    "from sklearn.metrics import mean_squared_error\n",
    "from sklearn.model_selection import train_test_split\n",
    "from sklearn.preprocessing import LabelEncoder\n",
    "from deepctr.models import DeepFM\n",
    "from deepctr.inputs import SparseFeat,get_feature_names\n",
    "\n",
    "#数据加载\n",
    "data = pd.read_csv('./learning/L7/movielens/ml-latest/action2_movielens_2.csv' )\n",
    "sparse_features = ['userId', 'movieId', 'timestamp', 'tag', 'title', 'genres']\n",
    "target = ['rating']\n",
    "\n",
    "# 对特征标签进行编码\n",
    "for feature in sparse_features:\n",
    "    lbe = LabelEncoder()\n",
    "    data[feature] = lbe.fit_transform(data[feature].astype(str))\n",
    "'''\n",
    "'''\n",
    "# 计算每个特征中的 不同特征值的个数\n",
    "fixlen_feature_columns = [SparseFeat(feature, data[feature].nunique()) for feature in sparse_features]\n",
    "print(fixlen_feature_columns)\n",
    "linear_feature_columns = fixlen_feature_columns\n",
    "dnn_feature_columns = fixlen_feature_columns\n",
    "feature_names = get_feature_names(linear_feature_columns + dnn_feature_columns)\n",
    "\n",
    "# 将数据集切分成训练集和测试集\n",
    "train, test = train_test_split(data, test_size=0.2)\n",
    "train_model_input = {name:train[name].values for name in feature_names}\n",
    "test_model_input = {name:test[name].values for name in feature_names}\n",
    "\n",
    "# 使用DeepFM进行训练\n",
    "model = DeepFM(linear_feature_columns, dnn_feature_columns, task='regression')\n",
    "model.compile(\"adam\", \"mse\", metrics=['mse'], )\n",
    "history = model.fit(train_model_input, train[target].values, batch_size=256, epochs=10, verbose=True, validation_split=0.2, )\n",
    "# 使用DeepFM进行预测\n",
    "pred_ans = model.predict(test_model_input, batch_size=256)\n",
    "# 输出RMSE或MSE\n",
    "mse = round(mean_squared_error(test[target].values, pred_ans), 4)\n",
    "rmse = mse ** 0.5\n",
    "print(\"test RMSE\", rmse)\n"
   ]
  },
  {
   "cell_type": "code",
   "execution_count": null,
   "metadata": {},
   "outputs": [],
   "source": []
  }
 ],
 "metadata": {
  "kernelspec": {
   "display_name": "Python 3",
   "language": "python",
   "name": "python3"
  },
  "language_info": {
   "codemirror_mode": {
    "name": "ipython",
    "version": 3
   },
   "file_extension": ".py",
   "mimetype": "text/x-python",
   "name": "python",
   "nbconvert_exporter": "python",
   "pygments_lexer": "ipython3",
   "version": "3.7.3"
  }
 },
 "nbformat": 4,
 "nbformat_minor": 2
}
