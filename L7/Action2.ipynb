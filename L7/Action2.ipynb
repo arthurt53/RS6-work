{
 "cells": [
  {
   "cell_type": "code",
   "execution_count": 7,
   "metadata": {},
   "outputs": [
    {
     "name": "stdout",
     "output_type": "stream",
     "text": [
      "Done\n"
     ]
    }
   ],
   "source": [
    "import pandas as pd\n",
    "#数据源:https://grouplens.org/datasets/movielens/；1M Movielens数据集中的ratings.csv,movies.csv,tags.csv\n",
    "file_1 = pd.read_csv('./learning/L7/movielens/ml-latest-small/movies.csv')\n",
    "file_2 = pd.read_csv('./learning/L7/movielens/ml-latest-small/ratings.csv')\n",
    "file_3 = pd.read_csv('./learning/L7/movielens/ml-latest-small/tags.csv')\n",
    "#合并3个文件生成DeepFM的数据集\n",
    "file_3 = file_3.drop('timestamp' , axis =1) \n",
    "file_4 = pd.merge(file_2 , file_3)\n",
    "file_5 = pd.merge(file_4 , file_1)\n",
    "file_5.to_csv('./learning/L7/movielens/ml-latest-small/action2_movielens.csv' , index = 0)\n",
    "print('Done')"
   ]
  },
  {
   "cell_type": "code",
   "execution_count": 9,
   "metadata": {},
   "outputs": [
    {
     "name": "stdout",
     "output_type": "stream",
     "text": [
      "[SparseFeat(name='userId', vocabulary_size=54, embedding_dim=4, use_hash=False, dtype='int32', embedding_name='userId', group_name='default_group'), SparseFeat(name='movieId', vocabulary_size=1464, embedding_dim=4, use_hash=False, dtype='int32', embedding_name='movieId', group_name='default_group'), SparseFeat(name='timestamp', vocabulary_size=1587, embedding_dim=4, use_hash=False, dtype='int32', embedding_name='timestamp', group_name='default_group'), SparseFeat(name='tag', vocabulary_size=1543, embedding_dim=4, use_hash=False, dtype='int32', embedding_name='tag', group_name='default_group'), SparseFeat(name='title', vocabulary_size=1464, embedding_dim=4, use_hash=False, dtype='int32', embedding_name='title', group_name='default_group'), SparseFeat(name='genres', vocabulary_size=364, embedding_dim=4, use_hash=False, dtype='int32', embedding_name='genres', group_name='default_group')]\n",
      "Train on 2224 samples, validate on 556 samples\n"
     ]
    },
    {
     "name": "stderr",
     "output_type": "stream",
     "text": [
      "C:\\Users\\TAOXUEJIE-PSD\\Anaconda3\\lib\\site-packages\\tensorflow_core\\python\\framework\\indexed_slices.py:424: UserWarning: Converting sparse IndexedSlices to a dense Tensor of unknown shape. This may consume a large amount of memory.\n",
      "  \"Converting sparse IndexedSlices to a dense Tensor of unknown shape. \"\n",
      "C:\\Users\\TAOXUEJIE-PSD\\Anaconda3\\lib\\site-packages\\tensorflow_core\\python\\framework\\indexed_slices.py:424: UserWarning: Converting sparse IndexedSlices to a dense Tensor of unknown shape. This may consume a large amount of memory.\n",
      "  \"Converting sparse IndexedSlices to a dense Tensor of unknown shape. \"\n"
     ]
    },
    {
     "name": "stdout",
     "output_type": "stream",
     "text": [
      "2224/2224 [==============================] - 3s 1ms/sample - loss: 16.3231 - mse: 16.3231 - val_loss: 15.5218 - val_mse: 15.5218\n",
      "test RMSE 3.9320350964862967\n"
     ]
    }
   ],
   "source": [
    "import pandas as pd\n",
    "from sklearn.metrics import mean_squared_error\n",
    "from sklearn.model_selection import train_test_split\n",
    "from sklearn.preprocessing import LabelEncoder\n",
    "from deepctr.models import DeepFM\n",
    "from deepctr.inputs import SparseFeat,get_feature_names\n",
    "\n",
    "#数据加载\n",
    "data = pd.read_csv('./learning/L7/movielens/ml-latest-small/action2_movielens.csv' )\n",
    "sparse_features = ['userId', 'movieId', 'timestamp', 'tag', 'title', 'genres']\n",
    "target = ['rating']\n",
    "\n",
    "# 对特征标签进行编码\n",
    "for feature in sparse_features:\n",
    "    lbe = LabelEncoder()\n",
    "    data[feature] = lbe.fit_transform(data[feature])\n",
    "# 计算每个特征中的 不同特征值的个数\n",
    "fixlen_feature_columns = [SparseFeat(feature, data[feature].nunique()) for feature in sparse_features]\n",
    "print(fixlen_feature_columns)\n",
    "linear_feature_columns = fixlen_feature_columns\n",
    "dnn_feature_columns = fixlen_feature_columns\n",
    "feature_names = get_feature_names(linear_feature_columns + dnn_feature_columns)\n",
    "\n",
    "# 将数据集切分成训练集和测试集\n",
    "train, test = train_test_split(data, test_size=0.2)\n",
    "train_model_input = {name:train[name].values for name in feature_names}\n",
    "test_model_input = {name:test[name].values for name in feature_names}\n",
    "\n",
    "# 使用DeepFM进行训练\n",
    "model = DeepFM(linear_feature_columns, dnn_feature_columns, task='regression')\n",
    "model.compile(\"adam\", \"mse\", metrics=['mse'], )\n",
    "history = model.fit(train_model_input, train[target].values, batch_size=256, epochs=1, verbose=True, validation_split=0.2, )\n",
    "# 使用DeepFM进行预测\n",
    "pred_ans = model.predict(test_model_input, batch_size=256)\n",
    "# 输出RMSE或MSE\n",
    "mse = round(mean_squared_error(test[target].values, pred_ans), 4)\n",
    "rmse = mse ** 0.5\n",
    "print(\"test RMSE\", rmse)"
   ]
  }
 ],
 "metadata": {
  "kernelspec": {
   "display_name": "Python 3",
   "language": "python",
   "name": "python3"
  },
  "language_info": {
   "codemirror_mode": {
    "name": "ipython",
    "version": 3
   },
   "file_extension": ".py",
   "mimetype": "text/x-python",
   "name": "python",
   "nbconvert_exporter": "python",
   "pygments_lexer": "ipython3",
   "version": "3.7.3"
  }
 },
 "nbformat": 4,
 "nbformat_minor": 2
}
