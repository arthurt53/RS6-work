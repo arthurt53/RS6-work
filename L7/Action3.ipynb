{
 "cells": [
  {
   "cell_type": "code",
   "execution_count": 8,
   "metadata": {},
   "outputs": [
    {
     "name": "stderr",
     "output_type": "stream",
     "text": [
      "Building prefix dict from the default dictionary ...\n",
      "Loading model from cache C:\\Users\\TAOXUEJIE-PSD\\AppData\\Local\\Temp\\jieba.cache\n",
      "Loading model cost 0.761 seconds.\n",
      "Prefix dict has been built successfully.\n"
     ]
    }
   ],
   "source": [
    "# -*-coding: utf-8 -*-\n",
    "# 对txt文件进行中文分词\n",
    "import jieba\n",
    "import os\n",
    "from utils import files_processing\n",
    "\n",
    "# 源文件所在目录\n",
    "source_folder = './learning/L7/three_kingdoms/source'\n",
    "segment_folder = './learning/L7/three_kingdoms/segment'\n",
    "\n",
    "# 字词分割，对整个文件内容进行字词分割\n",
    "def segment_lines(file_list,segment_out_dir,stopwords=[]):\n",
    "    for i,file in enumerate(file_list):\n",
    "        segment_out_name=os.path.join(segment_out_dir,'segment_{}.txt'.format(i))\n",
    "        with open(file, 'rb') as f:\n",
    "            document = f.read()\n",
    "            document_cut = jieba.cut(document)\n",
    "            sentence_segment=[]\n",
    "            for word in document_cut:\n",
    "                if word not in stopwords:\n",
    "                    sentence_segment.append(word)\n",
    "            result = ' '.join(sentence_segment)\n",
    "            result = result.encode('utf-8')\n",
    "            with open(segment_out_name, 'wb') as f2:\n",
    "                f2.write(result)\n",
    "\n",
    "# 对source中的txt文件进行分词，输出到segment目录中\n",
    "file_list=files_processing.get_files_list(source_folder, postfix='*.txt')\n",
    "segment_lines(file_list, segment_folder)\n"
   ]
  },
  {
   "cell_type": "code",
   "execution_count": 13,
   "metadata": {},
   "outputs": [
    {
     "name": "stdout",
     "output_type": "stream",
     "text": [
      "与曹操最相近的词:  [('关将军', 0.9719396829605103), ('孙权', 0.9705224633216858), ('玄德叹', 0.9691004753112793), ('回报', 0.9681846499443054), ('竺', 0.9680510759353638), ('孔明问', 0.9667697548866272), ('居丧', 0.9641473293304443), ('周瑜', 0.9636486768722534), ('好歹', 0.962929368019104), ('拆视', 0.961742639541626)]\n",
      "曹操 + 刘备 - 张飞 : [('丞相', 0.9825724363327026), ('吾', 0.9792107343673706), ('问', 0.977342963218689), ('儒', 0.9762909412384033), ('叹', 0.9761993288993835), ('朕', 0.9759183526039124), ('陆伯言', 0.9743655920028687), ('臣', 0.9722874760627747), ('谁', 0.972286581993103), ('此', 0.9722462892532349)]\n"
     ]
    }
   ],
   "source": [
    "# -*-coding: utf-8 -*-\n",
    "# 将Word转换成Vec，然后计算相似度 \n",
    "from gensim.models import word2vec\n",
    "import multiprocessing\n",
    "\n",
    "segment_folder = './learning/L7/three_kingdoms/segment'\n",
    "sentences = word2vec.PathLineSentences(segment_folder)\n",
    "\n",
    "# 设置模型参数，进行训练\n",
    "model = word2vec.Word2Vec(sentences, size=120, window=4, min_count=5)\n",
    "\n",
    "print('与曹操最相近的词: ',model.wv.most_similar('曹操'))\n",
    "\n",
    "print('曹操 + 刘备 - 张飞 :',model.wv.most_similar(positive=['曹操', '刘备'], negative=['张飞']))\n",
    "\n"
   ]
  },
  {
   "cell_type": "code",
   "execution_count": null,
   "metadata": {},
   "outputs": [],
   "source": []
  }
 ],
 "metadata": {
  "kernelspec": {
   "display_name": "Python 3",
   "language": "python",
   "name": "python3"
  },
  "language_info": {
   "codemirror_mode": {
    "name": "ipython",
    "version": 3
   },
   "file_extension": ".py",
   "mimetype": "text/x-python",
   "name": "python",
   "nbconvert_exporter": "python",
   "pygments_lexer": "ipython3",
   "version": "3.7.3"
  }
 },
 "nbformat": 4,
 "nbformat_minor": 2
}
