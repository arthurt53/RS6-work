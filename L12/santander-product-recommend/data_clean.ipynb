{
 "cells": [
  {
   "cell_type": "code",
   "execution_count": 32,
   "metadata": {},
   "outputs": [
    {
     "name": "stderr",
     "output_type": "stream",
     "text": [
      "C:\\Users\\TAOXUEJIE-PSD\\Anaconda3\\lib\\site-packages\\IPython\\core\\interactiveshell.py:3051: DtypeWarning: Columns (5,8,11,15) have mixed types. Specify dtype option on import or set low_memory=False.\n",
      "  interactivity=interactivity, compiler=compiler, result=result)\n"
     ]
    }
   ],
   "source": [
    "import pandas as pd\n",
    "import numpy as np\n",
    "#载入数据\n",
    "train_data = pd.read_csv('train.csv')\n",
    "test_data = pd.read_csv('test.csv')\n",
    "train_data['origin'] = 'train'\n",
    "test_data['origin'] = 'test'\n",
    "data = pd.concat([train_data, test_data], ignore_index=True, sort=False)\n",
    "#重命名列名\n",
    "data.rename(columns = {'fecha_dato':'date','ncodpers':'user_id','ind_empleado':'employee_type',\n",
    "                        'pais_residencia':'user_country','sexo':'sex','fecha_alta':'register_date',\n",
    "                        'ind_nuevo':'new_user_type','antiguedad':'user_seniority','indrel':'user_type',\n",
    "                        'ult_fec_cli_1t':'last_date_as_primary_user','indrel_1mes':'user_type_at_begin',\n",
    "                        'tiprel_1mes':'user_relation_at_begin','indresi':'live_country_type','indext':'born_country_type',\n",
    "                        'conyuemp':'employee_spouse_type','canal_entrada':'user_join_channel','indfall':'alive_type',\n",
    "                        'tipodom':'address_type','cod_prov':'province_code','nomprov':'province_name',\n",
    "                        'ind_actividad_cliente':'activity_type','renta':'user_income','segmento':'user_segmentation',\n",
    "                        'ind_ahor_fin_ult1':'item_1','ind_aval_fin_ult1':'item_2','ind_cco_fin_ult1':'item_3',\n",
    "                        'ind_cder_fin_ult1':'item_4','ind_cno_fin_ult1':'item_5','ind_ctju_fin_ult1':'item_6',\n",
    "                        'ind_ctma_fin_ult1':'item_7','ind_ctop_fin_ult1':'item_8','ind_ctpp_fin_ult1':'item_9',\n",
    "                        'ind_deco_fin_ult1':'item_10','ind_deme_fin_ult1':'item_11','ind_dela_fin_ult1':'item_12',\n",
    "                        'ind_ecue_fin_ult1':'item_13','ind_fond_fin_ult1':'item_14','ind_hip_fin_ult1':'item_15',\n",
    "                        'ind_plan_fin_ult1':'item_16','ind_pres_fin_ult1':'item_17','ind_reca_fin_ult1':'item_18',\n",
    "                        'ind_tjcr_fin_ult1':'item_19','ind_valo_fin_ult1':'item_20','ind_viv_fin_ult1':'item_21',\n",
    "                        'ind_nomina_ult1':'item_22','ind_nom_pens_ult1':'item_23','ind_recibo_ult1':'item_24'},inplace = True)\n",
    "#去除一些相关性不太大的特征列\n",
    "data = data.dropna(axis=0,subset = ['register_date'])\n",
    "data = data.drop('employee_spouse_type',axis = 1)\n",
    "data = data.drop('last_date_as_primary_user',axis = 1)\n",
    "data = data.drop('province_name',axis = 1)\n",
    "data = data.drop('address_type',axis = 1)\n",
    "data = data.drop('employee_type',axis = 1)\n",
    "#对特征列的空值进行补全\n",
    "data['user_type'] = data['user_type'].replace(np.nan, 2)\n",
    "data['province_code'] = data['province_code'].replace(np.nan, 99)\n",
    "data['activity_type'] = data['activity_type'].replace(np.nan, 2)\n",
    "data['user_country'] = data['user_country'].replace(np.nan, 'unknown')\n",
    "data['sex'] = data['sex'].replace(np.nan,'unknown')\n",
    "data['user_seniority'] = data['user_seniority'].replace(np.nan, 0)\n",
    "data['user_seniority'] = data['user_seniority'].replace('     NA', 0)\n",
    "data['user_type_at_begin'] = data['user_type_at_begin'].replace('1.0', 1)\n",
    "data['user_type_at_begin'] = data['user_type_at_begin'].replace('1', 1)\n",
    "data['user_type_at_begin'] = data['user_type_at_begin'].replace('3.0', 3)\n",
    "data['user_type_at_begin'] = data['user_type_at_begin'].replace('3', 3)\n",
    "data['user_type_at_begin'] = data['user_type_at_begin'].replace('2.0', 2)\n",
    "data['user_type_at_begin'] = data['user_type_at_begin'].replace('2', 2)\n",
    "data['user_type_at_begin'] = data['user_type_at_begin'].replace('4.0', 4)\n",
    "data['user_type_at_begin'] = data['user_type_at_begin'].replace('4', 4)\n",
    "data['user_type_at_begin'] = data['user_type_at_begin'].replace('P', 5)\n",
    "data['user_type_at_begin'] = data['user_type_at_begin'].replace(np.nan, 0)\n",
    "data['user_relation_at_begin'] = data['user_relation_at_begin'].replace(np.nan, 'unknown')\n",
    "data['live_country_type'] = data['live_country_type'].replace(np.nan, 'unknown')\n",
    "data['born_country_type'] = data['born_country_type'].replace(np.nan, 'unknown')\n",
    "data['user_join_channel'] = data['user_join_channel'].replace(np.nan, 'unknown')\n",
    "data = data.drop('alive_type',axis = 1)\n",
    "data['user_segmentation'] = data['user_segmentation'].replace(np.nan, 'unknown')\n",
    "#增加用户使用时长的特征\n",
    "data['date']=pd.to_datetime(data['date'],format='%Y-%m-%d')\n",
    "data['register_date']=pd.to_datetime(data['register_date'],format='%Y-%m-%d')\n",
    "data['use_time'] = (data['date'] - data['register_date']).dt.days\n",
    "data = data.drop('register_date',axis =1)\n"
   ]
  },
  {
   "cell_type": "code",
   "execution_count": 33,
   "metadata": {},
   "outputs": [],
   "source": [
    "#提取用户信息特征准备通过xgboost对用户收入进行补全\n",
    "user_data = data[['user_id','date','user_country','sex','age',\n",
    "                'user_seniority','user_type','live_country_type','born_country_type',\n",
    "                'user_join_channel','province_code','activity_type','user_income',\n",
    "                'user_segmentation','use_time']]\n",
    "user_data = user_data.sort_values(by=['user_id','date'])\n",
    "user_data.drop_duplicates(subset = ['user_id'],keep='last',inplace=True)\n",
    "user_data = user_data.drop('date',axis = 1)\n",
    "user_data = user_data.reset_index(drop = True)\n"
   ]
  },
  {
   "cell_type": "code",
   "execution_count": 34,
   "metadata": {},
   "outputs": [
    {
     "name": "stdout",
     "output_type": "stream",
     "text": [
      "       user_id user_country sex age user_seniority  user_type  \\\n",
      "0        16074           ES   V  47             83        1.0   \n",
      "1        16095           ES   V  74            255        1.0   \n",
      "2        16117           ES   V  57            256        1.0   \n",
      "3        16181           ES   H  77            242        1.0   \n",
      "4        16308           ES   V  47            248        1.0   \n",
      "...        ...          ...  ..  ..            ...        ...   \n",
      "39692  1548081           ES   H  44              1        1.0   \n",
      "39693  1548083           ES   V  22              0        1.0   \n",
      "39694  1548094           ES   H  56              0        1.0   \n",
      "39695  1548100           ES   H  54              1        1.0   \n",
      "39696  1548191           ES   H  70              0        1.0   \n",
      "\n",
      "      live_country_type born_country_type user_join_channel  province_code  \\\n",
      "0                     S                 N               KFA           28.0   \n",
      "1                     S                 N               KAT           28.0   \n",
      "2                     S                 N               KAT           28.0   \n",
      "3                     S                 N               KAT           28.0   \n",
      "4                     S                 N               KAT           28.0   \n",
      "...                 ...               ...               ...            ...   \n",
      "39692                 S                 N               KHM           21.0   \n",
      "39693                 S                 S           unknown            7.0   \n",
      "39694                 S                 N           unknown            3.0   \n",
      "39695                 S                 N               KHM           29.0   \n",
      "39696                 S                 N           unknown           28.0   \n",
      "\n",
      "       activity_type  user_income  user_segmentation  use_time  \n",
      "0                0.0     53478.18  02 - PARTICULARES      2529  \n",
      "1                1.0          NaN           01 - TOP      7766  \n",
      "2                1.0    465589.68  02 - PARTICULARES      7765  \n",
      "3                0.0    134978.88  02 - PARTICULARES      7378  \n",
      "4                1.0    175988.07  02 - PARTICULARES      7565  \n",
      "...              ...          ...                ...       ...  \n",
      "39692            0.0          NaN  02 - PARTICULARES        30  \n",
      "39693            0.0          NaN            unknown         0  \n",
      "39694            0.0          NaN            unknown        -1  \n",
      "39695            1.0          NaN  02 - PARTICULARES        29  \n",
      "39696            0.0          NaN            unknown        -1  \n",
      "\n",
      "[39697 rows x 14 columns]\n"
     ]
    }
   ],
   "source": [
    "print(user_data)"
   ]
  },
  {
   "cell_type": "code",
   "execution_count": 35,
   "metadata": {
    "collapsed": true
   },
   "outputs": [
    {
     "name": "stdout",
     "output_type": "stream",
     "text": [
      "       user_id  sex  age  province_code  user_segmentation  user_income\n",
      "0        16074    1   47             27                  1     53478.18\n",
      "1        16095    1   74             27                  0          NaN\n",
      "2        16117    1   57             27                  1    465589.68\n",
      "3        16181    0   77             27                  1    134978.88\n",
      "4        16308    1   47             27                  1    175988.07\n",
      "...        ...  ...  ...            ...                ...          ...\n",
      "39692  1548081    0   44             20                  1          NaN\n",
      "39693  1548083    1   22              6                  3          NaN\n",
      "39694  1548094    0   56              2                  3          NaN\n",
      "39695  1548100    0   54             28                  1          NaN\n",
      "39696  1548191    0   70             27                  3          NaN\n",
      "\n",
      "[39697 rows x 6 columns]\n"
     ]
    },
    {
     "name": "stderr",
     "output_type": "stream",
     "text": [
      "C:\\Users\\TAOXUEJIE-PSD\\Anaconda3\\lib\\site-packages\\ipykernel_launcher.py:4: SettingWithCopyWarning: \n",
      "A value is trying to be set on a copy of a slice from a DataFrame.\n",
      "Try using .loc[row_indexer,col_indexer] = value instead\n",
      "\n",
      "See the caveats in the documentation: http://pandas.pydata.org/pandas-docs/stable/user_guide/indexing.html#returning-a-view-versus-a-copy\n",
      "  after removing the cwd from sys.path.\n",
      "C:\\Users\\TAOXUEJIE-PSD\\Anaconda3\\lib\\site-packages\\ipykernel_launcher.py:6: SettingWithCopyWarning: \n",
      "A value is trying to be set on a copy of a slice from a DataFrame.\n",
      "Try using .loc[row_indexer,col_indexer] = value instead\n",
      "\n",
      "See the caveats in the documentation: http://pandas.pydata.org/pandas-docs/stable/user_guide/indexing.html#returning-a-view-versus-a-copy\n",
      "  \n",
      "C:\\Users\\TAOXUEJIE-PSD\\Anaconda3\\lib\\site-packages\\ipykernel_launcher.py:8: SettingWithCopyWarning: \n",
      "A value is trying to be set on a copy of a slice from a DataFrame.\n",
      "Try using .loc[row_indexer,col_indexer] = value instead\n",
      "\n",
      "See the caveats in the documentation: http://pandas.pydata.org/pandas-docs/stable/user_guide/indexing.html#returning-a-view-versus-a-copy\n",
      "  \n",
      "C:\\Users\\TAOXUEJIE-PSD\\Anaconda3\\lib\\site-packages\\ipykernel_launcher.py:9: SettingWithCopyWarning: \n",
      "A value is trying to be set on a copy of a slice from a DataFrame.\n",
      "Try using .loc[row_indexer,col_indexer] = value instead\n",
      "\n",
      "See the caveats in the documentation: http://pandas.pydata.org/pandas-docs/stable/user_guide/indexing.html#returning-a-view-versus-a-copy\n",
      "  if __name__ == '__main__':\n"
     ]
    }
   ],
   "source": [
    "#对用户信息特征列进行labelencoder\n",
    "user_data1 = user_data[['user_id','sex','age','province_code','user_segmentation','user_income']]\n",
    "from sklearn.preprocessing import LabelEncoder\n",
    "lbe_sex = LabelEncoder()\n",
    "user_data1['sex'] = lbe_sex.fit_transform(user_data1['sex'])\n",
    "lbe_province_code = LabelEncoder()\n",
    "user_data1['province_code'] = lbe_province_code.fit_transform(user_data1['province_code'])\n",
    "lbe_user_segmentation = LabelEncoder()\n",
    "user_data1['user_segmentation'] = lbe_user_segmentation.fit_transform(user_data1['user_segmentation'])\n",
    "user_data1['age'] = user_data1['age'].astype('int16')\n",
    "print(user_data1)"
   ]
  },
  {
   "cell_type": "code",
   "execution_count": 36,
   "metadata": {},
   "outputs": [
    {
     "name": "stderr",
     "output_type": "stream",
     "text": [
      "C:\\Users\\TAOXUEJIE-PSD\\Anaconda3\\lib\\site-packages\\ipykernel_launcher.py:2: SettingWithCopyWarning: \n",
      "A value is trying to be set on a copy of a slice from a DataFrame.\n",
      "Try using .loc[row_indexer,col_indexer] = value instead\n",
      "\n",
      "See the caveats in the documentation: http://pandas.pydata.org/pandas-docs/stable/user_guide/indexing.html#returning-a-view-versus-a-copy\n",
      "  \n"
     ]
    }
   ],
   "source": [
    "#将存在收入数据的用户信息作为训练集，不存在收入数据的用户信息作为预测集\n",
    "user_data_train = user_data1.dropna()\n",
    "user_data_train['user_income'] = user_data_train['user_income'].astype('int64')\n",
    "user_data_predict = user_data1[user_data1.user_income.isnull()]"
   ]
  },
  {
   "cell_type": "code",
   "execution_count": 37,
   "metadata": {},
   "outputs": [
    {
     "name": "stdout",
     "output_type": "stream",
     "text": [
      "       user_id  sex  age  province_code  user_segmentation  user_income\n",
      "0        16074    1   47             27                  1        53478\n",
      "2        16117    1   57             27                  1       465589\n",
      "3        16181    0   77             27                  1       134978\n",
      "4        16308    1   47             27                  1       175988\n",
      "5        16339    1   55             27                  0       197736\n",
      "...        ...  ...  ...            ...                ...          ...\n",
      "36184  1454440    0   24             27                  2        85797\n",
      "36185  1454443    1   21             26                  2        96142\n",
      "36186  1454499    1   20             27                  1       194682\n",
      "36187  1454504    0   20             14                  2        54385\n",
      "36188  1454511    1   28             14                  2       202631\n",
      "\n",
      "[29850 rows x 6 columns]\n"
     ]
    }
   ],
   "source": [
    "print(user_data_train)"
   ]
  },
  {
   "cell_type": "code",
   "execution_count": 38,
   "metadata": {},
   "outputs": [
    {
     "name": "stdout",
     "output_type": "stream",
     "text": [
      "       user_id  sex  age  province_code  user_segmentation  user_income\n",
      "1        16095    1   74             27                  0          NaN\n",
      "32       17453    0   75             27                  1          NaN\n",
      "41       17701    1   53             27                  1          NaN\n",
      "53       18024    1   60             27                  1          NaN\n",
      "58       18288    1   70             38                  1          NaN\n",
      "...        ...  ...  ...            ...                ...          ...\n",
      "39692  1548081    0   44             20                  1          NaN\n",
      "39693  1548083    1   22              6                  3          NaN\n",
      "39694  1548094    0   56              2                  3          NaN\n",
      "39695  1548100    0   54             28                  1          NaN\n",
      "39696  1548191    0   70             27                  3          NaN\n",
      "\n",
      "[9847 rows x 6 columns]\n"
     ]
    }
   ],
   "source": [
    "print(user_data_predict)"
   ]
  },
  {
   "cell_type": "code",
   "execution_count": 39,
   "metadata": {},
   "outputs": [],
   "source": [
    "user_data_predict = user_data_predict.drop('user_income',axis =1)"
   ]
  },
  {
   "cell_type": "code",
   "execution_count": 40,
   "metadata": {},
   "outputs": [
    {
     "name": "stdout",
     "output_type": "stream",
     "text": [
      "136586.759798995\n",
      "320021.55237731023\n",
      "1096651\n"
     ]
    }
   ],
   "source": [
    "#将训练集中收入偏差均值3个标准差以外的收入数据进行剔除\n",
    "user_income_mean = user_data_train['user_income'].mean()\n",
    "print(user_income_mean)\n",
    "user_income_std = user_data_train['user_income'].std()\n",
    "print(user_income_std)\n",
    "user_income_max = int(user_income_mean + 3 * user_income_std)\n",
    "print(user_income_max)"
   ]
  },
  {
   "cell_type": "code",
   "execution_count": 41,
   "metadata": {},
   "outputs": [
    {
     "name": "stdout",
     "output_type": "stream",
     "text": [
      "       user_id  sex  age  province_code  user_segmentation  user_income\n",
      "0        16074    1   47             27                  1        53478\n",
      "2        16117    1   57             27                  1       465589\n",
      "3        16181    0   77             27                  1       134978\n",
      "4        16308    1   47             27                  1       175988\n",
      "5        16339    1   55             27                  0       197736\n",
      "...        ...  ...  ...            ...                ...          ...\n",
      "36184  1454440    0   24             27                  2        85797\n",
      "36185  1454443    1   21             26                  2        96142\n",
      "36186  1454499    1   20             27                  1       194682\n",
      "36187  1454504    0   20             14                  2        54385\n",
      "36188  1454511    1   28             14                  2       202631\n",
      "\n",
      "[29786 rows x 6 columns]\n"
     ]
    }
   ],
   "source": [
    "user_data_train1 = user_data_train[user_data_train.user_income < user_income_max]\n",
    "print(user_data_train1)"
   ]
  },
  {
   "cell_type": "code",
   "execution_count": 42,
   "metadata": {},
   "outputs": [
    {
     "name": "stdout",
     "output_type": "stream",
     "text": [
      "[17:50:22] WARNING: C:/Jenkins/workspace/xgboost-win64_release_0.90/src/objective/regression_obj.cu:152: reg:linear is now deprecated in favor of reg:squarederror.\n",
      "[0]\ttrain-rmse:162567\tvalid-rmse:163332\n",
      "Multiple eval metrics have been passed: 'valid-rmse' will be used for early stopping.\n",
      "\n",
      "Will train until valid-rmse hasn't improved in 200 rounds.\n",
      "[25]\ttrain-rmse:139612\tvalid-rmse:140551\n",
      "[50]\ttrain-rmse:123575\tvalid-rmse:124694\n",
      "[75]\ttrain-rmse:112720\tvalid-rmse:114050\n",
      "[100]\ttrain-rmse:105285\tvalid-rmse:106822\n",
      "[125]\ttrain-rmse:100349\tvalid-rmse:102180\n",
      "[150]\ttrain-rmse:97134.1\tvalid-rmse:99186\n",
      "[175]\ttrain-rmse:95033.1\tvalid-rmse:97262.8\n",
      "[200]\ttrain-rmse:93670.4\tvalid-rmse:96092.8\n",
      "[225]\ttrain-rmse:92774.1\tvalid-rmse:95357.9\n",
      "[250]\ttrain-rmse:92162.1\tvalid-rmse:94877.5\n",
      "[275]\ttrain-rmse:91733.3\tvalid-rmse:94601.3\n",
      "[300]\ttrain-rmse:91434.2\tvalid-rmse:94437\n",
      "[325]\ttrain-rmse:91202.7\tvalid-rmse:94351.1\n",
      "[350]\ttrain-rmse:91029.2\tvalid-rmse:94314\n",
      "[375]\ttrain-rmse:90872.2\tvalid-rmse:94303.4\n",
      "[400]\ttrain-rmse:90730.1\tvalid-rmse:94296.4\n",
      "[425]\ttrain-rmse:90615.8\tvalid-rmse:94316.2\n",
      "[450]\ttrain-rmse:90549.7\tvalid-rmse:94326.8\n",
      "[475]\ttrain-rmse:90489.6\tvalid-rmse:94347.3\n",
      "[500]\ttrain-rmse:90428.8\tvalid-rmse:94369.9\n",
      "[525]\ttrain-rmse:90367.5\tvalid-rmse:94391.4\n",
      "[550]\ttrain-rmse:90310.3\tvalid-rmse:94414.5\n",
      "[575]\ttrain-rmse:90257.7\tvalid-rmse:94444.8\n",
      "Stopping. Best iteration:\n",
      "[397]\ttrain-rmse:90746.2\tvalid-rmse:94295.4\n",
      "\n"
     ]
    }
   ],
   "source": [
    "#进行xgboost预测\n",
    "import xgboost as xgb\n",
    "from sklearn.model_selection import train_test_split\n",
    "\n",
    "param = {'boosting_type':'gbdt',\n",
    "                         'objective' : 'reg:linear', \n",
    "                         'eval_metric' : 'rmse',\n",
    "                         'eta' : 0.01,\n",
    "                         'max_depth' : 10,\n",
    "                         'colsample_bytree':0.8,\n",
    "                         'subsample': 0.9,\n",
    "                         'subsample_freq': 8,\n",
    "                         #'alpha': 0.6,\n",
    "                         'lambda': 2,\n",
    "        }\n",
    "user_data_predict1 = xgb.DMatrix(user_data_predict[['sex','age','province_code','user_segmentation']])\n",
    "#for name in col_name:\n",
    "X_train, X_valid, y_train, y_valid = train_test_split(user_data_train1.drop(['user_income','user_id'],axis=1), user_data_train1['user_income']\n",
    "                                                      , test_size=0.2, random_state=2020)\n",
    "\n",
    "train_data = xgb.DMatrix(X_train, label=y_train)\n",
    "valid_data = xgb.DMatrix(X_valid, label=y_valid)\n",
    "\n",
    "model = xgb.train(param, train_data, evals=[(train_data, 'train'), (valid_data, 'valid')], num_boost_round = 10000, early_stopping_rounds=200, verbose_eval=25)\n",
    "\n",
    "predict = model.predict(user_data_predict1)\n"
   ]
  },
  {
   "cell_type": "code",
   "execution_count": 43,
   "metadata": {},
   "outputs": [],
   "source": [
    "user_data_predict['user_income'] = predict"
   ]
  },
  {
   "cell_type": "code",
   "execution_count": 44,
   "metadata": {},
   "outputs": [
    {
     "name": "stdout",
     "output_type": "stream",
     "text": [
      "       user_id  sex  age  province_code  user_segmentation    user_income\n",
      "1        16095    1   74             27                  0  221646.671875\n",
      "32       17453    0   75             27                  1  155265.656250\n",
      "41       17701    1   53             27                  1  165207.000000\n",
      "53       18024    1   60             27                  1  166919.312500\n",
      "58       18288    1   70             38                  1  135890.796875\n",
      "...        ...  ...  ...            ...                ...            ...\n",
      "39692  1548081    0   44             20                  1   81214.476562\n",
      "39693  1548083    1   22              6                  3  156591.078125\n",
      "39694  1548094    0   56              2                  3   77598.093750\n",
      "39695  1548100    0   54             28                  1   95437.445312\n",
      "39696  1548191    0   70             27                  3   95293.593750\n",
      "\n",
      "[9847 rows x 6 columns]\n"
     ]
    }
   ],
   "source": [
    "print(user_data_predict)"
   ]
  },
  {
   "cell_type": "code",
   "execution_count": 45,
   "metadata": {},
   "outputs": [],
   "source": [
    "user_data_predict['user_income'] = user_data_predict['user_income'].astype('int64')"
   ]
  },
  {
   "cell_type": "code",
   "execution_count": 46,
   "metadata": {},
   "outputs": [
    {
     "name": "stdout",
     "output_type": "stream",
     "text": [
      "       user_id  sex  age  province_code  user_segmentation  user_income\n",
      "0        16074    1   47             27                  1        53478\n",
      "2        16117    1   57             27                  1       465589\n",
      "3        16181    0   77             27                  1       134978\n",
      "4        16308    1   47             27                  1       175988\n",
      "5        16339    1   55             27                  0       197736\n",
      "...        ...  ...  ...            ...                ...          ...\n",
      "36184  1454440    0   24             27                  2        85797\n",
      "36185  1454443    1   21             26                  2        96142\n",
      "36186  1454499    1   20             27                  1       194682\n",
      "36187  1454504    0   20             14                  2        54385\n",
      "36188  1454511    1   28             14                  2       202631\n",
      "\n",
      "[29850 rows x 6 columns]\n"
     ]
    }
   ],
   "source": [
    "print(user_data_train)"
   ]
  },
  {
   "cell_type": "code",
   "execution_count": 47,
   "metadata": {},
   "outputs": [
    {
     "name": "stdout",
     "output_type": "stream",
     "text": [
      "       user_id  sex  age  province_code  user_segmentation  user_income\n",
      "1        16095    1   74             27                  0       221646\n",
      "32       17453    0   75             27                  1       155265\n",
      "41       17701    1   53             27                  1       165207\n",
      "53       18024    1   60             27                  1       166919\n",
      "58       18288    1   70             38                  1       135890\n",
      "...        ...  ...  ...            ...                ...          ...\n",
      "39692  1548081    0   44             20                  1        81214\n",
      "39693  1548083    1   22              6                  3       156591\n",
      "39694  1548094    0   56              2                  3        77598\n",
      "39695  1548100    0   54             28                  1        95437\n",
      "39696  1548191    0   70             27                  3        95293\n",
      "\n",
      "[9847 rows x 6 columns]\n"
     ]
    }
   ],
   "source": [
    "print(user_data_predict)"
   ]
  },
  {
   "cell_type": "code",
   "execution_count": 48,
   "metadata": {},
   "outputs": [],
   "source": [
    "user_data_all = pd.concat([user_data_train,user_data_predict],ignore_index = True)"
   ]
  },
  {
   "cell_type": "code",
   "execution_count": 49,
   "metadata": {},
   "outputs": [
    {
     "name": "stdout",
     "output_type": "stream",
     "text": [
      "       user_id  sex  age  province_code  user_segmentation  user_income\n",
      "0        16074    1   47             27                  1        53478\n",
      "1        16117    1   57             27                  1       465589\n",
      "2        16181    0   77             27                  1       134978\n",
      "3        16308    1   47             27                  1       175988\n",
      "4        16339    1   55             27                  0       197736\n",
      "...        ...  ...  ...            ...                ...          ...\n",
      "39692  1548081    0   44             20                  1        81214\n",
      "39693  1548083    1   22              6                  3       156591\n",
      "39694  1548094    0   56              2                  3        77598\n",
      "39695  1548100    0   54             28                  1        95437\n",
      "39696  1548191    0   70             27                  3        95293\n",
      "\n",
      "[39697 rows x 6 columns]\n"
     ]
    }
   ],
   "source": [
    "print(user_data_all)"
   ]
  },
  {
   "cell_type": "code",
   "execution_count": 50,
   "metadata": {
    "collapsed": true
   },
   "outputs": [
    {
     "name": "stdout",
     "output_type": "stream",
     "text": [
      "             date  user_id user_country sex  age  new_user_type  \\\n",
      "0      2015-01-28  1050676           ES   V   31            0.0   \n",
      "1      2015-01-28  1050662           ES   V   37            0.0   \n",
      "2      2015-01-28  1050652           ES   H   31            0.0   \n",
      "3      2015-01-28  1050489           ES   H   23            0.0   \n",
      "4      2015-01-28  1050490           ES   V   23            0.0   \n",
      "...           ...      ...          ...  ..  ...            ...   \n",
      "562927 2016-05-28  1166847           ES   V   23            0.0   \n",
      "562928 2016-05-28  1166605           ES   V   27            0.0   \n",
      "562929 2016-05-28  1166829           ES   V   23            0.0   \n",
      "562930 2016-05-28  1166827           ES   H   23            0.0   \n",
      "562931 2016-05-28  1166781           ES   H   24            0.0   \n",
      "\n",
      "       user_seniority  user_type  user_type_at_begin user_relation_at_begin  \\\n",
      "0                  35        1.0                 1.0                      A   \n",
      "1                  35        1.0                 1.0                      A   \n",
      "2                  35        1.0                 1.0                      A   \n",
      "3                  35        1.0                 1.0                      A   \n",
      "4                  35        1.0                 1.0                      A   \n",
      "...               ...        ...                 ...                    ...   \n",
      "562927             33        1.0                 1.0                      A   \n",
      "562928             33        1.0                 1.0                      I   \n",
      "562929             33        1.0                 1.0                      A   \n",
      "562930             33        1.0                 1.0                      I   \n",
      "562931             33        1.0                 1.0                      I   \n",
      "\n",
      "        ... item_17 item_18 item_19  item_20  item_21  item_22 item_23  \\\n",
      "0       ...     0.0     0.0     0.0      0.0      0.0      0.0     0.0   \n",
      "1       ...     0.0     0.0     0.0      1.0      0.0      0.0     0.0   \n",
      "2       ...     0.0     0.0     0.0      1.0      0.0      0.0     0.0   \n",
      "3       ...     0.0     0.0     0.0      0.0      0.0      0.0     0.0   \n",
      "4       ...     0.0     0.0     0.0      0.0      0.0      0.0     0.0   \n",
      "...     ...     ...     ...     ...      ...      ...      ...     ...   \n",
      "562927  ...     NaN     NaN     NaN      NaN      NaN      NaN     NaN   \n",
      "562928  ...     NaN     NaN     NaN      NaN      NaN      NaN     NaN   \n",
      "562929  ...     NaN     NaN     NaN      NaN      NaN      NaN     NaN   \n",
      "562930  ...     NaN     NaN     NaN      NaN      NaN      NaN     NaN   \n",
      "562931  ...     NaN     NaN     NaN      NaN      NaN      NaN     NaN   \n",
      "\n",
      "        item_24  origin  use_time  \n",
      "0           0.0   train       901  \n",
      "1           0.0   train       901  \n",
      "2           1.0   train       901  \n",
      "3           0.0   train       901  \n",
      "4           0.0   train       901  \n",
      "...         ...     ...       ...  \n",
      "562927      NaN    test      1018  \n",
      "562928      NaN    test      1018  \n",
      "562929      NaN    test      1018  \n",
      "562930      NaN    test      1018  \n",
      "562931      NaN    test      1018  \n",
      "\n",
      "[561786 rows x 43 columns]\n"
     ]
    }
   ],
   "source": [
    "print(data)"
   ]
  },
  {
   "cell_type": "code",
   "execution_count": 52,
   "metadata": {},
   "outputs": [
    {
     "name": "stdout",
     "output_type": "stream",
     "text": [
      "       user_id  user_income\n",
      "0        16074        53478\n",
      "1        16117       465589\n",
      "2        16181       134978\n",
      "3        16308       175988\n",
      "4        16339       197736\n",
      "...        ...          ...\n",
      "39692  1548081        81214\n",
      "39693  1548083       156591\n",
      "39694  1548094        77598\n",
      "39695  1548100        95437\n",
      "39696  1548191        95293\n",
      "\n",
      "[39697 rows x 2 columns]\n"
     ]
    }
   ],
   "source": [
    "user_data_all = user_data_all.drop(['sex','age','province_code','user_segmentation'],axis =1)\n",
    "print(user_data_all)"
   ]
  },
  {
   "cell_type": "code",
   "execution_count": 53,
   "metadata": {},
   "outputs": [],
   "source": [
    "#将预测的收入数据填补进原有的数据集中\n",
    "data = data.drop('user_income',axis=1)\n",
    "data = pd.merge(data,user_data_all,how='left')"
   ]
  },
  {
   "cell_type": "code",
   "execution_count": 54,
   "metadata": {},
   "outputs": [
    {
     "name": "stdout",
     "output_type": "stream",
     "text": [
      "             date  user_id user_country sex  age  new_user_type  \\\n",
      "0      2015-01-28  1050676           ES   V   31            0.0   \n",
      "1      2015-01-28  1050662           ES   V   37            0.0   \n",
      "2      2015-01-28  1050652           ES   H   31            0.0   \n",
      "3      2015-01-28  1050489           ES   H   23            0.0   \n",
      "4      2015-01-28  1050490           ES   V   23            0.0   \n",
      "...           ...      ...          ...  ..  ...            ...   \n",
      "561781 2016-05-28  1166847           ES   V   23            0.0   \n",
      "561782 2016-05-28  1166605           ES   V   27            0.0   \n",
      "561783 2016-05-28  1166829           ES   V   23            0.0   \n",
      "561784 2016-05-28  1166827           ES   H   23            0.0   \n",
      "561785 2016-05-28  1166781           ES   H   24            0.0   \n",
      "\n",
      "       user_seniority  user_type  user_type_at_begin user_relation_at_begin  \\\n",
      "0                  35        1.0                 1.0                      A   \n",
      "1                  35        1.0                 1.0                      A   \n",
      "2                  35        1.0                 1.0                      A   \n",
      "3                  35        1.0                 1.0                      A   \n",
      "4                  35        1.0                 1.0                      A   \n",
      "...               ...        ...                 ...                    ...   \n",
      "561781             33        1.0                 1.0                      A   \n",
      "561782             33        1.0                 1.0                      I   \n",
      "561783             33        1.0                 1.0                      A   \n",
      "561784             33        1.0                 1.0                      I   \n",
      "561785             33        1.0                 1.0                      I   \n",
      "\n",
      "        ... item_18 item_19 item_20  item_21  item_22 item_23  item_24  \\\n",
      "0       ...     0.0     0.0     0.0      0.0      0.0     0.0      0.0   \n",
      "1       ...     0.0     0.0     1.0      0.0      0.0     0.0      0.0   \n",
      "2       ...     0.0     0.0     1.0      0.0      0.0     0.0      1.0   \n",
      "3       ...     0.0     0.0     0.0      0.0      0.0     0.0      0.0   \n",
      "4       ...     0.0     0.0     0.0      0.0      0.0     0.0      0.0   \n",
      "...     ...     ...     ...     ...      ...      ...     ...      ...   \n",
      "561781  ...     NaN     NaN     NaN      NaN      NaN     NaN      NaN   \n",
      "561782  ...     NaN     NaN     NaN      NaN      NaN     NaN      NaN   \n",
      "561783  ...     NaN     NaN     NaN      NaN      NaN     NaN      NaN   \n",
      "561784  ...     NaN     NaN     NaN      NaN      NaN     NaN      NaN   \n",
      "561785  ...     NaN     NaN     NaN      NaN      NaN     NaN      NaN   \n",
      "\n",
      "        origin  use_time  user_income  \n",
      "0        train       901        90431  \n",
      "1        train       901       122456  \n",
      "2        train       901       149099  \n",
      "3        train       901       158207  \n",
      "4        train       901        69052  \n",
      "...        ...       ...          ...  \n",
      "561781    test      1018        88747  \n",
      "561782    test      1018        92776  \n",
      "561783    test      1018        96488  \n",
      "561784    test      1018        30303  \n",
      "561785    test      1018        66748  \n",
      "\n",
      "[561786 rows x 43 columns]\n"
     ]
    }
   ],
   "source": [
    "print(data)"
   ]
  },
  {
   "cell_type": "code",
   "execution_count": 55,
   "metadata": {},
   "outputs": [],
   "source": [
    "train_data_new = data[data.origin == 'train']\n",
    "test_data_new = data[data.origin == 'test']\n",
    "train_data_new.to_csv('train_update.csv',index = 0)\n",
    "test_data_new.to_csv('test_update.csv',index = 0)"
   ]
  },
  {
   "cell_type": "code",
   "execution_count": null,
   "metadata": {},
   "outputs": [],
   "source": []
  }
 ],
 "metadata": {
  "kernelspec": {
   "display_name": "Python 3",
   "language": "python",
   "name": "python3"
  },
  "language_info": {
   "codemirror_mode": {
    "name": "ipython",
    "version": 3
   },
   "file_extension": ".py",
   "mimetype": "text/x-python",
   "name": "python",
   "nbconvert_exporter": "python",
   "pygments_lexer": "ipython3",
   "version": "3.7.3"
  }
 },
 "nbformat": 4,
 "nbformat_minor": 2
}
