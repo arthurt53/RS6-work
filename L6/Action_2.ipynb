{
  "nbformat": 4,
  "nbformat_minor": 0,
  "metadata": {
    "colab": {
      "name": "Untitled0.ipynb",
      "provenance": [],
      "collapsed_sections": []
    },
    "kernelspec": {
      "name": "python3",
      "display_name": "Python 3"
    },
    "accelerator": "GPU"
  },
  "cells": [
    {
      "cell_type": "code",
      "metadata": {
        "id": "0e5ZC_G1Txx1",
        "colab_type": "code",
        "colab": {
          "base_uri": "https://localhost:8080/",
          "height": 251
        },
        "outputId": "d7f91c9f-6b2b-4b0d-81c4-1e5b87fba853"
      },
      "source": [
        "#!pip install surprise\n",
        "from surprise import SVD , SVDpp\n",
        "from surprise import Dataset\n",
        "from surprise.model_selection import cross_validate\n",
        "from surprise import Reader\n",
        "from surprise import accuracy\n",
        "from surprise.model_selection import KFold\n",
        "import pandas as pd\n",
        "import time\n",
        "\n",
        "import os\n",
        "os.chdir(\"/content/drive/My Drive/Colab Notebooks/\")\n",
        "time1=time.time()\n",
        "\n",
        "# 数据读取\n",
        "reader = Reader(line_format='user item rating timestamp', sep=',', skip_lines=1)\n",
        "data = Dataset.load_from_file('ratings.csv', reader=reader)\n",
        "train_set = data.build_full_trainset()\n",
        "\n",
        "# 使用funkSVD\n",
        "algo_1 = SVD(biased=False)\n",
        "\n",
        "# 定义K折交叉验证迭代器，K=3\n",
        "kf_1 = KFold(n_splits=3)\n",
        "print(\"使用funkSVD模型：\")\n",
        "for trainset, testset in kf_1.split(data):\n",
        "    # 训练并预测\n",
        "    algo_1.fit(trainset)\n",
        "    predictions = algo_1.test(testset)\n",
        "    # 计算RMSE\n",
        "    accuracy.rmse(predictions, verbose=True)\n",
        "\n",
        "# 使用BiasSVD\n",
        "algo_2 = SVD(biased=True)\n",
        "\n",
        "# 定义K折交叉验证迭代器，K=3\n",
        "kf_2 = KFold(n_splits=3)\n",
        "print(\"使用BiasSVD模型：\")\n",
        "for trainset, testset in kf_2.split(data):\n",
        "    # 训练并预测\n",
        "    algo_2.fit(trainset)\n",
        "    predictions = algo_2.test(testset)\n",
        "    # 计算RMSE\n",
        "    accuracy.rmse(predictions, verbose=True)\n",
        "\n",
        "# 使用SVD++\n",
        "algo_3 = SVDpp()\n",
        "\n",
        "# 定义K折交叉验证迭代器，K=3\n",
        "kf_3 = KFold(n_splits=3)\n",
        "print(\"使用SVD++模型：\")\n",
        "for trainset, testset in kf_3.split(data):\n",
        "    # 训练并预测\n",
        "    algo_3.fit(trainset)\n",
        "    predictions = algo_3.test(testset)\n",
        "    # 计算RMSE\n",
        "    accuracy.rmse(predictions, verbose=True)\n",
        "\n",
        "time2=time.time()\n",
        "print(time2-time1)"
      ],
      "execution_count": 5,
      "outputs": [
        {
          "output_type": "stream",
          "text": [
            "使用funkSVD模型：\n",
            "RMSE: 0.8715\n",
            "RMSE: 0.8729\n",
            "RMSE: 0.8750\n",
            "使用BiasSVD模型：\n",
            "RMSE: 0.8464\n",
            "RMSE: 0.8450\n",
            "RMSE: 0.8437\n",
            "使用SVD++模型：\n",
            "RMSE: 0.8306\n",
            "RMSE: 0.8302\n",
            "RMSE: 0.8301\n",
            "8683.271671533585\n"
          ],
          "name": "stdout"
        }
      ]
    }
  ]
}