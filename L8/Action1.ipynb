{
 "cells": [
  {
   "cell_type": "code",
   "execution_count": 15,
   "metadata": {},
   "outputs": [
    {
     "name": "stdout",
     "output_type": "stream",
     "text": [
      "Train on 128 samples, validate on 32 samples\n",
      "Epoch 1/10\n"
     ]
    },
    {
     "name": "stderr",
     "output_type": "stream",
     "text": [
      "C:\\Users\\TAOXUEJIE-PSD\\Anaconda3\\lib\\site-packages\\tensorflow_core\\python\\framework\\indexed_slices.py:424: UserWarning: Converting sparse IndexedSlices to a dense Tensor of unknown shape. This may consume a large amount of memory.\n",
      "  \"Converting sparse IndexedSlices to a dense Tensor of unknown shape. \"\n",
      "C:\\Users\\TAOXUEJIE-PSD\\Anaconda3\\lib\\site-packages\\tensorflow_core\\python\\framework\\indexed_slices.py:424: UserWarning: Converting sparse IndexedSlices to a dense Tensor of unknown shape. This may consume a large amount of memory.\n",
      "  \"Converting sparse IndexedSlices to a dense Tensor of unknown shape. \"\n"
     ]
    },
    {
     "name": "stdout",
     "output_type": "stream",
     "text": [
      "128/128 [==============================] - 2s 14ms/sample - loss: 9.6857 - mse: 9.6857 - val_loss: 8.3633 - val_mse: 8.3633\n",
      "Epoch 2/10\n",
      "128/128 [==============================] - 0s 156us/sample - loss: 9.4223 - mse: 9.4222 - val_loss: 8.1476 - val_mse: 8.1475\n",
      "Epoch 3/10\n",
      "128/128 [==============================] - 0s 171us/sample - loss: 9.1681 - mse: 9.1681 - val_loss: 7.9370 - val_mse: 7.9370\n",
      "Epoch 4/10\n",
      "128/128 [==============================] - 0s 171us/sample - loss: 8.9198 - mse: 8.9198 - val_loss: 7.7286 - val_mse: 7.7286\n",
      "Epoch 5/10\n",
      "128/128 [==============================] - 0s 172us/sample - loss: 8.6719 - mse: 8.6719 - val_loss: 7.5217 - val_mse: 7.5217\n",
      "Epoch 6/10\n",
      "128/128 [==============================] - 0s 164us/sample - loss: 8.4245 - mse: 8.4244 - val_loss: 7.3165 - val_mse: 7.3165\n",
      "Epoch 7/10\n",
      "128/128 [==============================] - 0s 164us/sample - loss: 8.1784 - mse: 8.1784 - val_loss: 7.1139 - val_mse: 7.1139\n",
      "Epoch 8/10\n",
      "128/128 [==============================] - 0s 140us/sample - loss: 7.9326 - mse: 7.9326 - val_loss: 6.9086 - val_mse: 6.9086\n",
      "Epoch 9/10\n",
      "128/128 [==============================] - 0s 171us/sample - loss: 7.6836 - mse: 7.6836 - val_loss: 6.6994 - val_mse: 6.6994\n",
      "Epoch 10/10\n",
      "128/128 [==============================] - 0s 187us/sample - loss: 7.4310 - mse: 7.4309 - val_loss: 6.4870 - val_mse: 6.4870\n",
      "test RMSE 2.654411422519124\n"
     ]
    }
   ],
   "source": [
    "import pandas as pd\n",
    "from sklearn.metrics import mean_squared_error\n",
    "from sklearn.model_selection import train_test_split\n",
    "from sklearn.preprocessing import LabelEncoder, MinMaxScaler\n",
    "\n",
    "from deepctr.models import WDL\n",
    "from deepctr.inputs import SparseFeat, DenseFeat, get_feature_names\n",
    "\n",
    "data = pd.read_csv('movielens_sample.txt')\n",
    "sparse_features = ['user_id', 'movie_id', 'timestamp', 'title', 'genres', 'gender', 'occupation', 'zip']\n",
    "dense_features = ['age']\n",
    "target = ['rating']\n",
    "\n",
    "# 对特征标签进行编码\n",
    "for feature in sparse_features:\n",
    "    lbe = LabelEncoder()\n",
    "    data[feature] = lbe.fit_transform(data[feature])\n",
    "\n",
    "mms = MinMaxScaler(feature_range=(0,1))\n",
    "data[dense_features] = mms.fit_transform(data[dense_features])\n",
    "\n",
    "# 计算每个特征中的 不同特征值的个数\n",
    "fixlen_feature_columns = [SparseFeat(feat, vocabulary_size=data[feat].nunique())\n",
    "                       for i,feat in enumerate(sparse_features)] + [DenseFeat(feat, 1)\n",
    "                      for feat in dense_features]\n",
    "linear_feature_columns = fixlen_feature_columns\n",
    "dnn_feature_columns = fixlen_feature_columns\n",
    "feature_names = get_feature_names(linear_feature_columns + dnn_feature_columns)\n",
    "\n",
    "# 将数据集切分成训练集和测试集\n",
    "train, test = train_test_split(data, test_size=0.2)\n",
    "train_model_input = {name:train[name].values for name in feature_names}\n",
    "test_model_input = {name:test[name].values for name in feature_names}\n",
    "\n",
    "# 使用WDL进行训练\n",
    "model = WDL(linear_feature_columns, dnn_feature_columns, task='regression')\n",
    "model.compile(\"adam\", \"mse\", metrics=['mse'] )\n",
    "history = model.fit(train_model_input, train[target].values, batch_size=256, epochs=10, verbose=True, validation_split=0.2 )\n",
    "# 使用WDL进行预测\n",
    "pred_ans = model.predict(test_model_input, batch_size=256)\n",
    "# 输出RMSE或MSE\n",
    "mse = round(mean_squared_error(test[target].values, pred_ans), 4)\n",
    "rmse = mse ** 0.5\n",
    "print(\"test RMSE\", rmse)\n"
   ]
  },
  {
   "cell_type": "code",
   "execution_count": null,
   "metadata": {},
   "outputs": [],
   "source": []
  }
 ],
 "metadata": {
  "kernelspec": {
   "display_name": "Python 3",
   "language": "python",
   "name": "python3"
  },
  "language_info": {
   "codemirror_mode": {
    "name": "ipython",
    "version": 3
   },
   "file_extension": ".py",
   "mimetype": "text/x-python",
   "name": "python",
   "nbconvert_exporter": "python",
   "pygments_lexer": "ipython3",
   "version": "3.7.3"
  }
 },
 "nbformat": 4,
 "nbformat_minor": 2
}
